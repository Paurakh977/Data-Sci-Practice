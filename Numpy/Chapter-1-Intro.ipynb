{
 "cells": [
  {
   "cell_type": "markdown",
   "id": "fc692ad2-a5c0-4908-83f0-fe7dc1123b1b",
   "metadata": {},
   "source": [
    "# Why NumPy?\n",
    "\n",
    "## The Problem\n",
    "- **Inefficient Native Lists:** Python lists are versatile but not optimized for numerical computations, making them slow and memory-intensive for large datasets.\n",
    "- **Lack of Vectorized Operations:** Without specialized support, element-wise operations require explicit loops, which hampers performance.\n",
    "\n",
    "## The Solution: NumPy\n",
    "- **Efficient Multi-dimensional Arrays:** NumPy introduces the `ndarray`, a homogeneous, memory-efficient array structure ideal for numerical data.\n",
    "- **Vectorized Operations:** It enables fast, element-wise operations without explicit loops, significantly boosting computational speed.\n",
    "- **Optimized Performance:** Leveraging underlying C and Fortran libraries, NumPy performs heavy computations much faster than native Python.\n",
    "\n",
    "## Use Cases\n",
    "- Data analysis and manipulation\n",
    "- Scientific computing and numerical simulations\n",
    "- Machine learning and deep learning preprocessing\n",
    "- Signal and image processing\n"
   ]
  },
  {
   "cell_type": "code",
   "execution_count": 2,
   "id": "9ea66950-c009-4ab5-8720-c95e7aa1243e",
   "metadata": {},
   "outputs": [],
   "source": [
    "import numpy as np"
   ]
  },
  {
   "cell_type": "markdown",
   "id": "8e52bdc3-b39b-4d43-bcfa-3f393a60f976",
   "metadata": {},
   "source": [
    "# Understanding 1D vs 2D Arrays\n",
    "\n",
    "## 1D Arrays\n",
    "- **Structure:** A single list of elements.\n",
    "- **Access:** Use one index (e.g., `array[i]`).\n",
    "- **Use Cases:** Representing vectors or sequences.\n",
    "\n",
    "## 2D Arrays (Matrix)\n",
    "- **Structure:** A grid or table, with rows and columns.\n",
    "- **Access:** Use two indices (e.g., `array[i][j]` or `array[i, j]` in NumPy).\n",
    "- **Use Cases:** Representing matrices, images, or any tabular data.\n",
    "\n",
    "## Key Differences\n",
    "- **Dimensions:** 1D arrays have one dimension; 2D arrays have two dimensions.\n",
    "- **Data Organization:** 1D arrays are like a single row or column, while 2D arrays allow for multi-row and multi-column data structures.\n"
   ]
  },
  {
   "cell_type": "code",
   "execution_count": 4,
   "id": "fba31003-df9e-4ad0-b902-175107e4b5af",
   "metadata": {},
   "outputs": [
    {
     "data": {
      "text/plain": [
       "array([1, 2, 3, 4, 5])"
      ]
     },
     "execution_count": 4,
     "metadata": {},
     "output_type": "execute_result"
    }
   ],
   "source": [
    "## 1-D arr\n",
    "\n",
    "np.array([i for i in range(1,6)])"
   ]
  },
  {
   "cell_type": "code",
   "execution_count": 5,
   "id": "c529b15d-526f-4671-8439-ac185c33df12",
   "metadata": {},
   "outputs": [
    {
     "data": {
      "text/plain": [
       "4"
      ]
     },
     "execution_count": 5,
     "metadata": {},
     "output_type": "execute_result"
    }
   ],
   "source": [
    "# Acessing Elements\n",
    "np.array([i for i in range(1,6)])[3]\n"
   ]
  },
  {
   "cell_type": "code",
   "execution_count": 6,
   "id": "025767bb-51aa-435d-a639-eb75aba69e62",
   "metadata": {},
   "outputs": [
    {
     "data": {
      "text/plain": [
       "array([[1, 2, 3],\n",
       "       [4, 5, 6],\n",
       "       [7, 8, 9]])"
      ]
     },
     "execution_count": 6,
     "metadata": {},
     "output_type": "execute_result"
    }
   ],
   "source": [
    "## 2-D array\n",
    "np.array([\n",
    "    [1,2,3],\n",
    "    [4,5,6],\n",
    "    [7,8,9]\n",
    "])\n"
   ]
  },
  {
   "cell_type": "code",
   "execution_count": 7,
   "id": "9829a0e2-d22b-46b3-8b18-a4a4e271ff56",
   "metadata": {},
   "outputs": [
    {
     "data": {
      "text/plain": [
       "3"
      ]
     },
     "execution_count": 7,
     "metadata": {},
     "output_type": "execute_result"
    }
   ],
   "source": [
    "# Accessing an element (e.g., element in 1st row , column 3rd)\n",
    "np.array([\n",
    "    [1,2,3],\n",
    "    [4,5,6],\n",
    "    [7,8,9]\n",
    "]) [0][2]"
   ]
  },
  {
   "cell_type": "markdown",
   "id": "e78d45f7-dbec-4198-b111-afdbd654e93d",
   "metadata": {},
   "source": [
    "# Understanding Multi-Dimensional Arrays & Tensors\n",
    "\n",
    "## What is a Multi-Dimensional Array?\n",
    "A **multi-dimensional array** is an extension of a 1D or 2D array, where data is organized in multiple dimensions (3D, 4D, or higher). In NumPy, these are represented as **tensors**.\n",
    "\n",
    "## Why Use Multi-Dimensional Arrays?\n",
    "- **Efficient Storage:** Helps in handling large datasets with structured organization.\n",
    "- **Faster Computations:** Optimized for mathematical operations like matrix multiplication.\n",
    "- **Simplifies Complex Data Representations:** Easily represents real-world structured data like images and time-series data.\n",
    "\n",
    "## When & Where to Use Multi-Dimensional Arrays?\n",
    "- **Machine Learning & Deep Learning:**  \n",
    "  - Neural networks operate on tensors (multi-dimensional arrays).\n",
    "  - Example: A batch of images is stored as a **4D tensor** (batch_size, height, width, channels).\n",
    "\n",
    "- **Scientific Computing & Simulations:**  \n",
    "  - Weather forecasting models use **multi-dimensional arrays** to store temperature, pressure, and wind speed at different locations and times.\n",
    "\n",
    "- **Image & Video Processing:**  \n",
    "  - Images are stored as **3D arrays** (height, width, RGB channels).  \n",
    "  - Videos are stored as **4D arrays** (frames, height, width, RGB).\n",
    "\n",
    "- **Medical Imaging (MRI, CT scans):**  \n",
    "  - 3D scans are represented as **3D arrays** for volumetric analysis.\n",
    "\n",
    "## Example of Multi-Dimensional Arrays in NumPy\n",
    "```python\n",
    "import numpy as np\n",
    "\n",
    "# 3D Array (Tensor)\n",
    "three_d = np.array([\n",
    "    [[1, 2], [3, 4]],\n",
    "    [[5, 6], [7, 8]],\n",
    "    [[9, 10], [11, 12]]\n",
    "])\n",
    "print(\"3D Array:\\n\", three_d)\n",
    "\n",
    "# Accessing an element (first matrix, second row, second column)\n",
    "print(\"Element at [0, 1, 1]:\", three_d[0, 1, 1])  # Output: 4\n"
   ]
  },
  {
   "cell_type": "markdown",
   "id": "b137d95a-69c0-432c-a5bf-fe9a22a40ec1",
   "metadata": {},
   "source": [
    "# Understanding Tensors for Images, Videos, and Batches\n",
    "\n",
    "## What is a Tensor?\n",
    "A **tensor** is a multi-dimensional array used to represent structured data such as images, videos, and machine learning datasets. It generalizes scalars (0D), vectors (1D), and matrices (2D) to higher dimensions.\n",
    "\n",
    "---\n",
    "\n",
    "## **Tensors in Image Representation**\n",
    "A color image (RGB) can be represented as a **3D tensor**:\n"
   ]
  },
  {
   "cell_type": "markdown",
   "id": "cd664e9d-efff-4697-b0d0-d12a7a3725e1",
   "metadata": {},
   "source": [
    "- **Height:** Number of rows (pixels from top to bottom).\n",
    "- **Width:** Number of columns (pixels from left to right).\n",
    "- **Channels:** Color information (Red, Green, Blue → 3 channels).\n",
    "\n",
    "### Example: Representing a 3x3 RGB Image in NumPy\n"
   ]
  },
  {
   "cell_type": "markdown",
   "id": "eedc5aa4-90f5-43e8-be22-5439066b1f9f",
   "metadata": {},
   "source": [
    "# Understanding a 3D Image Array in NumPy\n",
    "\n",
    "This document explains how a 3×3 RGB image is represented as a multi-dimensional NumPy array. It includes the code, the expected output, and detailed explanations of each part of the structure.\n",
    "\n",
    "---\n",
    "\n",
    "## Code\n",
    "\n",
    "```python\n",
    "import numpy as np\n",
    "\n",
    "# Define a 3x3 RGB image manually\n",
    "image = [\n",
    "    [ [255, 0, 0],   [0, 255, 0],   [0, 0, 255]  ],  # Row 0 (Red, Green, Blue)\n",
    "    [ [255, 255, 0], [255, 0, 255], [0, 255, 255] ],  # Row 1 (Yellow, Magenta, Cyan)\n",
    "    [ [100, 100, 100], [200, 200, 200], [50, 50, 50] ]  # Row 2 (Shades of gray)\n",
    "]\n",
    "\n",
    "# Convert the list into a NumPy array\n",
    "image_array = np.array(image)\n",
    "print(image_array)\n",
    "```\n",
    "\n",
    "## Output\n",
    "```python\n",
    "array([[[255,   0,   0],\n",
    "        [  0, 255,   0],\n",
    "        [  0,   0, 255]],\n",
    "\n",
    "       [[255, 255,   0],\n",
    "        [255,   0, 255],\n",
    "        [  0, 255, 255]],\n",
    "\n",
    "       [[100, 100, 100],\n",
    "        [200, 200, 200],\n",
    "        [ 50,  50,  50]]])\n",
    "```\n",
    "\n",
    "\n",
    "# Step 1: Understanding the Structure\n",
    "\n",
    "## 1.1 The Image Definition\n",
    "\n",
    "### Rows (First Level – Outer List):\n",
    "The outer list contains 3 elements, each representing a row of the image.\n",
    "\n",
    "- Example: `image[0]` returns the first row.\n",
    "\n",
    "### Columns (Second Level – Middle List):\n",
    "Each row is a list that contains 3 elements, each representing a pixel in that row (i.e., a column).\n",
    "\n",
    "- Example: `image[0][0]` returns the first pixel in the first row.\n",
    "\n",
    "### Color Channels (Third Level – Inner List):\n",
    "Each pixel is represented as a list of 3 numbers corresponding to its Red, Green, and Blue (RGB) intensities.\n",
    "\n",
    "- Example: `image[0][0][0]` returns the Red intensity (255) of the first pixel.\n",
    "\n",
    "## 1.2 Pixel Value Breakdown\n",
    "Each pixel is expressed as `[R, G, B]`, where:\n",
    "\n",
    "- **R**: Red intensity (0 to 255)\n",
    "- **G**: Green intensity (0 to 255)\n",
    "- **B**: Blue intensity (0 to 255)\n",
    "\n",
    "### Tips\n",
    "The shape (p,q,r) refers that the array has p*q*r elements. Also here P refers to the number of rows or the number of 2D arrayrs of matrix, q refers to the no. of rows each 2D matrix has and r refers to the number of columns each 1-D array has. \n",
    "\n",
    "# Step 2: Interpreting the Array Shape (3, 3, 3)\n",
    "When the list is converted to a NumPy array using `np.array(image)`, the resulting array has the shape `(3, 3, 3)`. This indicates:\n",
    "\n",
    "- **First Dimension (3)**: The image has 3 rows (height = 3 pixels).\n",
    "- **Second Dimension (3)**: The image has 3 columns (width = 3 pixels).\n",
    "- **Third Dimension (3)**: Each pixel contains 3 color channels (RGB).\n",
    "\n",
    "Thus 900 X 700 image reffers to the image that has 900 rows of pixels and 700 pixles of columns\n",
    "# Visual Representation\n",
    "The image can be visualized in a grid format:\n",
    "\n",
    "| Row/Col | Column 0             | Column 1             | Column 2             |\n",
    "|---------|----------------------|----------------------|----------------------|\n",
    "| Row 0   | [255, 0, 0] (Red)    | [0, 255, 0] (Green)  | [0, 0, 255] (Blue)   |\n",
    "| Row 1   | [255, 255, 0] (Yellow) | [255, 0, 255] (Magenta) | [0, 255, 255] (Cyan) |\n",
    "| Row 2   | [100, 100, 100] (Gray) | [200, 200, 200] (Light Gray) | [50, 50, 50] (Dark Gray) |\n",
    "\n",
    "- **Rows (Height)**: Represent horizontal slices of the image.\n",
    "- **Columns (Width)**: Represent vertical slices.\n",
    "- **Each cell (Pixel)**: Contains 3 values representing the color composition (Red, Green, Blue).\n",
    "\n"
   ]
  },
  {
   "attachments": {
    "5c3bd4f6-b4d1-49d4-a165-ad8526d83af2.png": {
     "image/png": "[encoded data removed]"
    }
   },
   "cell_type": "markdown",
   "id": "bade6b14-28e7-4322-b2f5-1dbeda353553",
   "metadata": {},
   "source": [
    "# Image Visualization\n",
    "![image.png](attachment:5c3bd4f6-b4d1-49d4-a165-ad8526d83af2.png)"
   ]
  },
  {
   "cell_type": "code",
   "execution_count": 13,
   "id": "2870ba53-868a-41a2-8af1-ebcfb0fc9e5a",
   "metadata": {},
   "outputs": [
    {
     "name": "stdout",
     "output_type": "stream",
     "text": [
      "3D Array:\n",
      "[[[1 2]\n",
      "  [3 4]]\n",
      "\n",
      " [[5 6]\n",
      "  [7 8]]]\n",
      "Shape: (2, 2, 2)\n",
      "Dimensions: 3\n",
      "Size: 8\n",
      "Data Type: int32\n"
     ]
    }
   ],
   "source": [
    "\n",
    "# Create a 3D array\n",
    "arr_3d = np.array([[[1, 2], [3, 4]], [[5, 6], [7, 8]]])\n",
    "\n",
    "print(\"3D Array:\")\n",
    "print(arr_3d)\n",
    "print(\"Shape:\", arr_3d.shape)    # (2, 2, 2) - 2 layers, 2 rows, 2 columns\n",
    "print(\"Dimensions:\", arr_3d.ndim)  # 3 - 3D array\n",
    "print(\"Size:\", arr_3d.size)      # 8 - total elements\n",
    "print(\"Data Type:\", arr_3d.dtype)"
   ]
  },
  {
   "cell_type": "markdown",
   "id": "4d7d2b69-aa37-44a7-8c24-8752950af8ed",
   "metadata": {},
   "source": [
    "## NumPy Array Creation Methods"
   ]
  },
  {
   "cell_type": "markdown",
   "id": "f7f9f42b-3e7b-4d9d-aef8-0e75b28cbcdf",
   "metadata": {},
   "source": [
    "# np.zeros\n",
    "\n",
    "**Definition:** Creates an array filled with zeros.  \n",
    "\n",
    "**Syntax:**  \n",
    "```python\n",
    "np.zeros(shape, dtype=float, order='C')\n",
    "```\n",
    "**order:** 'C' (row-major) or 'F' (column-major)."
   ]
  },
  {
   "cell_type": "code",
   "execution_count": 16,
   "id": "bbd1b329-4490-4f0f-9f15-8b82153df987",
   "metadata": {},
   "outputs": [
    {
     "name": "stdout",
     "output_type": "stream",
     "text": [
      "Zeros Array:\n",
      "[[0 0 0]\n",
      " [0 0 0]]\n",
      "Shape: (2, 3)\n"
     ]
    }
   ],
   "source": [
    "\n",
    "# Create a 2x3 array of zeros\n",
    "zeros_arr = np.zeros((2, 3), dtype=int)\n",
    "\n",
    "print(\"Zeros Array:\")\n",
    "print(zeros_arr)\n",
    "print(\"Shape:\", zeros_arr.shape)"
   ]
  },
  {
   "cell_type": "markdown",
   "id": "3e4615e3-3d6b-4245-af44-0115e80b4ca8",
   "metadata": {},
   "source": [
    "# np.ones\n",
    "\n",
    "**Definition:** Creates an array filled with ones.  \n",
    "\n",
    "**Syntax:**  \n",
    "```python\n",
    "np.ones(shape, dtype=float, order='C')\n",
    "```\n",
    "\n",
    "**Purpose:** Similar to zeros, but fills with ones.  \n",
    "\n",
    "**Example:**  \n"
   ]
  },
  {
   "cell_type": "code",
   "execution_count": 18,
   "id": "322d2b6f-0f1c-4a57-a38a-9fbf79ff556d",
   "metadata": {},
   "outputs": [
    {
     "name": "stdout",
     "output_type": "stream",
     "text": [
      "Ones Array:\n",
      "[[1. 1.]\n",
      " [1. 1.]\n",
      " [1. 1.]]\n",
      "Shape: (3, 2)\n"
     ]
    }
   ],
   "source": [
    "\n",
    "\n",
    "# Create a 3x2 array of ones\n",
    "ones_arr = np.ones((3, 2), dtype=float)\n",
    "\n",
    "print(\"Ones Array:\")\n",
    "print(ones_arr)\n",
    "print(\"Shape:\", ones_arr.shape)"
   ]
  },
  {
   "cell_type": "markdown",
   "id": "e1b18bb7-446f-4f99-b85d-7a45a016e5da",
   "metadata": {},
   "source": [
    "# np.eye\n",
    "\n",
    "**Definition:** Creates a 2D array with ones on the diagonal and zeros elsewhere (identity-like matrix).  \n",
    "\n",
    "**Syntax:**  \n",
    "```python\n",
    "np.eye(N, M=None, k=0, dtype=float)\n",
    "```\n",
    "\n",
    "- **N:** Number of rows.  \n",
    "- **M:** Number of columns (default is N).  \n",
    "- **k:** Index of the diagonal (0 for main diagonal, positive for upper, negative for lower).  \n",
    "\n",
    "**Purpose:** Useful for linear algebra operations.  \n"
   ]
  },
  {
   "cell_type": "code",
   "execution_count": 20,
   "id": "a4b6ecdb-4457-4fa9-b5a3-0b3cf574f08c",
   "metadata": {},
   "outputs": [
    {
     "name": "stdout",
     "output_type": "stream",
     "text": [
      "Eye Array:\n",
      "[[1 0 0]\n",
      " [0 1 0]\n",
      " [0 0 1]]\n",
      "Shape: (3, 3)\n"
     ]
    }
   ],
   "source": [
    "\n",
    "# Create a 3x3 identity-like matrix\n",
    "eye_arr = np.eye(3, dtype=int)\n",
    "print(\"Eye Array:\")\n",
    "print(eye_arr)\n",
    "print(\"Shape:\", eye_arr.shape)"
   ]
  },
  {
   "cell_type": "code",
   "execution_count": 21,
   "id": "a21dd6d6-eb47-4ef8-b36b-4ccb6124ff7b",
   "metadata": {},
   "outputs": [
    {
     "name": "stdout",
     "output_type": "stream",
     "text": [
      "Eye Array with Offset:\n",
      "[[0 1 0]\n",
      " [0 0 1]\n",
      " [0 0 0]\n",
      " [0 0 0]]\n"
     ]
    }
   ],
   "source": [
    "# Create a 4x3 array with ones on k=1 (upper diagonal), k=1 for lower diagonal\n",
    "eye_offset = np.eye(4, 3, k=1, dtype=int)\n",
    "\n",
    "print(\"Eye Array with Offset:\")\n",
    "print(eye_offset)"
   ]
  },
  {
   "cell_type": "markdown",
   "id": "cc021cb6-082d-4bfb-8c7b-fbd6bca2df80",
   "metadata": {},
   "source": [
    "# np.identity\n",
    "\n",
    "**Definition:** Creates a square identity matrix (ones on the main diagonal, zeros elsewhere).  \n",
    "\n",
    "**Syntax:**  \n",
    "```python\n",
    "np.identity(n, dtype=float)\n",
    "```\n",
    "\n",
    "- **n:** Size of the square matrix.  \n",
    "\n",
    "**Purpose:** Similar to `np.eye`, but always square and no offset option.  \n"
   ]
  },
  {
   "cell_type": "code",
   "execution_count": 23,
   "id": "f33ba0ef-8629-48d3-abaa-afbea4165ae6",
   "metadata": {},
   "outputs": [
    {
     "name": "stdout",
     "output_type": "stream",
     "text": [
      "Identity Array:\n",
      "[[1 0 0 0]\n",
      " [0 1 0 0]\n",
      " [0 0 1 0]\n",
      " [0 0 0 1]]\n",
      "Shape: (4, 4)\n"
     ]
    }
   ],
   "source": [
    "\n",
    "# Create a 4x4 identity matrix\n",
    "id_arr = np.identity(4, dtype=int)\n",
    "\n",
    "print(\"Identity Array:\")\n",
    "print(id_arr)\n",
    "print(\"Shape:\", id_arr.shape)"
   ]
  },
  {
   "cell_type": "markdown",
   "id": "1781b225-8081-475c-a00d-e5909b2fade5",
   "metadata": {},
   "source": [
    "# np.full\n",
    "\n",
    "**Definition:** Creates an array filled with a specified value.  \n",
    "\n",
    "**Syntax:**  \n",
    "```python\n",
    "np.full(shape, fill_value, dtype=None)\n",
    "```\n",
    "\n",
    "- **shape:** Tuple specifying the array's shape.  \n",
    "- **fill_value:** Value to fill the array with.  \n",
    "\n",
    "**Purpose:** Generalizes `np.zeros` and `np.ones`.  \n"
   ]
  },
  {
   "cell_type": "code",
   "execution_count": 25,
   "id": "5e7b7e41-985b-4a75-bb35-83f6be3c5aef",
   "metadata": {},
   "outputs": [
    {
     "name": "stdout",
     "output_type": "stream",
     "text": [
      "Full Array:\n",
      "[[7 7 7]\n",
      " [7 7 7]]\n",
      "Shape: (2, 3)\n"
     ]
    }
   ],
   "source": [
    "# Create a 2x3 array filled with 7\n",
    "full_arr = np.full((2, 3), 7, dtype=int)\n",
    "\n",
    "print(\"Full Array:\")\n",
    "print(full_arr)\n",
    "print(\"Shape:\", full_arr.shape)"
   ]
  },
  {
   "cell_type": "markdown",
   "id": "607ebee5-8adb-4d29-a7d3-212a684fc92f",
   "metadata": {},
   "source": [
    "# np.arange\n",
    "\n",
    "**Definition:** Creates a 1D array with evenly spaced values within a range.  \n",
    "\n",
    "**Syntax:**  \n",
    "```python\n",
    "np.arange(start, stop, step, dtype=None)\n",
    "```\n",
    "\n",
    "- **start:** Starting value (inclusive).  \n",
    "- **stop:** End value (exclusive).  \n",
    "- **step:** Spacing between values.  \n",
    "\n",
    "**Purpose:** Similar to Python's `range`, but returns a NumPy array.  \n"
   ]
  },
  {
   "cell_type": "code",
   "execution_count": null,
   "id": "576ef1f7-baa7-4df1-ae58-526edb4c5364",
   "metadata": {},
   "outputs": [
    {
     "name": "stdout",
     "output_type": "stream",
     "text": [
      "Arange Array:\n",
      "[0 2 4 6 8]\n",
      "Shape: (5,)\n"
     ]
    }
   ],
   "source": [
    "\n",
    "# Create an array from 0 to 9 with step 2\n",
    "range_arr = np.arange(0, 10, 2)\n",
    "\n",
    "print(\"Arange Array:\")\n",
    "print(range_arr)\n",
    "print(\"Shape:\", range_arr.shape)"
   ]
  },
  {
   "cell_type": "code",
   "execution_count": null,
   "id": "121db6fd-c85e-449d-b9bb-a720bb2f8995",
   "metadata": {},
   "outputs": [],
   "source": [
    "[np.arange(i,6) for i in range(1,4)]"
   ]
  },
  {
   "cell_type": "markdown",
   "id": "c050346a-e733-4cc4-a35a-80d566791a64",
   "metadata": {},
   "source": [
    "# np.linspace\n",
    "\n",
    "**Definition:** Creates a 1D array with evenly spaced numbers over a specified interval.  \n",
    "\n",
    "**Syntax:**  \n",
    "```python\n",
    "np.linspace(start, stop, num=50, endpoint=True, dtype=None)\n",
    "```\n",
    "\n",
    "- **start:** Starting value.  \n",
    "- **stop:** End value (inclusive if `endpoint=True`).  \n",
    "- **num:** Number of samples to generate.  \n",
    "\n",
    "**Purpose:** Useful for creating sequences with a fixed number of points.  \n"
   ]
  },
  {
   "cell_type": "code",
   "execution_count": null,
   "id": "04553663-c019-481c-a08e-971c0a0d95fc",
   "metadata": {},
   "outputs": [],
   "source": [
    "\n",
    "# Create an array with 5 points from 0 to 10\n",
    "linspace_arr = np.linspace(0, 10, 5)\n",
    "\n",
    "print(\"Linspace Array:\")\n",
    "print(linspace_arr)\n",
    "print(\"Shape:\", linspace_arr.shape)"
   ]
  },
  {
   "cell_type": "markdown",
   "id": "d16783da-b6f2-4c04-a0d5-8a2ddcfc92d5",
   "metadata": {},
   "source": [
    "# Syntax Breakdown\n",
    "\n",
    "The function call is:\n",
    "\n",
    "```python\n",
    "np.linspace(start, stop, num=50, endpoint=True, dtype=None)\n",
    "```\n",
    "\n",
    "- **start:** The starting value of the sequence (in this case, `0`).  \n",
    "- **stop:** The end value of the sequence (in this case, `10`).  \n",
    "- **num:** The number of evenly spaced points to generate (in this case, `5`).  \n",
    "- **endpoint=True:** By default, this means the stop value (`10`) is included in the array. If set to `False`, it would exclude `10`.  \n",
    "- **dtype:** The data type of the array (defaults to `float64` here).  \n",
    "\n",
    "So, `np.linspace(0, 10, 5)` means:  \n",
    "\n",
    "1. Start at `0`.  \n",
    "2. End at `10`.  \n",
    "3. Generate `5` evenly spaced points, including both `0` and `10`.  \n",
    "\n",
    "## How Are the Values Calculated?\n",
    "\n",
    "`linspace` divides the interval from `start` to `stop` into `num - 1` equal segments.  \n",
    "\n",
    "- **Number of points** = `5`, so there are `5 - 1 = 4` intervals between them.  \n",
    "- **Interval length** = `(stop - start) / (num - 1) = (10 - 0) / 4 = 2.5`.  \n",
    "\n",
    "The points are:\n",
    "\n",
    "- Start at `0` (the 1st point).  \n",
    "- Add `2.5` each time:  \n",
    "\n",
    "  - **1st point:** `0`  \n",
    "  - **2nd point:** `0 + 2.5 = 2.5`  \n",
    "  - **3rd point:** `2.5 + 2.5 = 5.0`  \n",
    "  - **4th point:** `5.0 + 2.5 = 7.5`  \n",
    "  - **5th point:** `7.5 + 2.5 = 10.0` (this matches stop because `endpoint=True`).  \n",
    "\n",
    "Thus, the array is:  \n",
    "\n",
    "```python\n",
    "[0.0, 2.5, 5.0, 7.5, 10.0]\n",
    "```\n",
    "\n",
    "## Why Floating-Point Numbers?\n",
    "\n",
    "The output has decimals (e.g., `0.` instead of `0`) because `np.linspace` defaults to `float64` data type unless you specify otherwise (`dtype=int`).  \n",
    "\n",
    "If you want integers, you could use:\n",
    "\n",
    "```python\n",
    "np.linspace(0, 10, 5, dtype=int)\n",
    "```\n",
    "\n",
    "But it would round the values, giving:  \n",
    "\n",
    "```python\n",
    "[0, 2, 5, 7, 10]\n",
    "```\n",
    "\n"
   ]
  },
  {
   "cell_type": "code",
   "execution_count": null,
   "id": "44d27b8b-416b-44de-9f87-db5c5440d421",
   "metadata": {},
   "outputs": [],
   "source": [
    "import numpy as np\n",
    "import matplotlib.pyplot as plt\n",
    "\n",
    "# Define a 4D tensor (batch_size=2, height=2, width=2, channels=3)\n",
    "batch_of_images = np.array([\n",
    "    # Image 0\n",
    "    [\n",
    "        [[255, 0, 0], [0, 255, 0]],  # Row 0: Red, Green\n",
    "        [[0, 0, 255], [255, 255, 0]]  # Row 1: Blue, Yellow\n",
    "    ],\n",
    "    # Image 1\n",
    "    [\n",
    "        [[0, 255, 0], [255, 0, 0]],  # Row 0: Green, Red\n",
    "        [[255, 255, 0], [0, 0, 255]]  # Row 1: Yellow, Blue\n",
    "    ]\n",
    "], dtype=np.uint8)\n",
    "\n",
    "# Print the shape and array\n",
    "print(\"Shape:\", batch_of_images.shape)\n",
    "print(\"\\nBatch of Images:\\n\", batch_of_images)"
   ]
  },
  {
   "cell_type": "markdown",
   "id": "b1f46a7e-019f-4358-b14b-740d602b0604",
   "metadata": {},
   "source": [
    "## What Are C-Order and F-Order?\n",
    "\n",
    "C-order and F-order refer to the **memory layout** of multi-dimensional arrays:\n",
    "\n",
    "- **C-Order (Row-Major Order)**: \n",
    "  - Derived from the C programming language.\n",
    "  - Elements are stored in memory row-by-row.\n",
    "  - The rightmost index (i.e., the last dimension) changes the fastest as you move through memory.\n",
    "\n",
    "- **F-Order (Column-Major Order)**: \n",
    "  - Derived from Fortran.\n",
    "  - Elements are stored in memory column-by-column.\n",
    "  - The leftmost index (i.e., the first dimension) changes the fastest as you move through memory.\n",
    "\n",
    "These memory layouts determine how NumPy flattens a multi-dimensional array into a 1D sequence in memory.\n",
    "\n",
    "---\n",
    "\n",
    "## Key Differences\n",
    "\n",
    "| Feature                | C-Order (Row-Major)               | F-Order (Column-Major)           |\n",
    "|------------------------|-----------------------------------|-----------------------------------|\n",
    "| **Origin**            | C language                       | Fortran language                 |\n",
    "| **Traversal**         | Row-by-row                       | Column-by-column                 |\n",
    "| **Fastest Index**     | Rightmost (last dimension)       | Leftmost (first dimension)       |\n",
    "| **Default in NumPy**  | Yes                              | No (must be explicitly specified)|\n",
    "\n",
    "---\n",
    "\n",
    "## Detailed Explanation with Examples\n",
    "\n",
    "### 1. C-Order (Row-Major)\n",
    "In C-order, NumPy stores the array such that the **rows** are contiguous in memory. For a 2D array, this means that elements in the same row are stored next to each other.\n",
    "\n",
    "#### Example:\n"
   ]
  },
  {
   "cell_type": "code",
   "execution_count": null,
   "id": "834588b0-4679-411e-b240-d477056d0743",
   "metadata": {},
   "outputs": [],
   "source": [
    "arr_c= np.array([\n",
    "    [1,2,3],\n",
    "    [4,5,6],\n",
    "    [7,8,9]\n",
    "],dtype='int', order=\"C\")\n",
    "arr_c"
   ]
  },
  {
   "cell_type": "code",
   "execution_count": null,
   "id": "867b712d-44b1-4406-96bf-e6a0a95eb5a6",
   "metadata": {},
   "outputs": [],
   "source": [
    "# Flatenning the Array, Since order= C , it is flattned row wise\n",
    "np.ravel(arr_c)"
   ]
  },
  {
   "cell_type": "code",
   "execution_count": null,
   "id": "a3f5f1a1-4a69-4a14-b82d-297780ab7962",
   "metadata": {},
   "outputs": [],
   "source": [
    "arr_f= np.array([\n",
    "    [1,2,3],\n",
    "    [4,5,6],\n",
    "    [7,8,9]\n",
    "],dtype='int', order=\"F\")\n",
    "print(arr_f.flags)\n",
    "arr_f"
   ]
  },
  {
   "cell_type": "code",
   "execution_count": null,
   "id": "79b62948-2d04-4c8c-9df3-58563b90ca8e",
   "metadata": {},
   "outputs": [],
   "source": [
    "# Flatenning the Array, Since order= F , it is flattned column wise\n",
    "np.ravel(arr_f,order=\"F\")"
   ]
  },
  {
   "cell_type": "markdown",
   "id": "25b1fd28-4b15-4db5-8700-a4e666e7d8a1",
   "metadata": {},
   "source": [
    "\n",
    "## 1. C-Order (Default for Your `arr`)\n",
    "- **Memory Layout**: Stored row by row.\n",
    "  - Row 0: `[1, 2, 3]`\n",
    "  - Row 1: `[4, 5, 6]`\n",
    "  - **Flattened**: `[1, 2, 3, 4, 5, 6]`.\n",
    "- **How It’s Stored**: In memory, the sequence is contiguous along rows. After `1`, the next element is `2`, then `3`, then `4` (start of next row).\n",
    "- **Indexing**: `arr[0, :]` gives `[1, 2, 3]` (row 0), and `arr[:, 0]` gives `[1, 4]` (column 0). The logical structure remains rows and columns, but the storage is row-contiguous.\n",
    "- **Performance**: Row-wise operations are faster because the data is stored contiguously along rows, improving cache efficiency.\n",
    "\n",
    "## 2. F-Order (If You Used `order='F'`)\n",
    "- **Memory Layout**: Stored column by column.\n",
    "  - Column 0: `[1, 4]`\n",
    "  - Column 1: `[2, 5]`\n",
    "  - Column 2: `[3, 6]`\n",
    "  - **Flattened**: `[1, 4, 2, 5, 3, 6]` (with `np.ravel(arr_f, order='F')`).\n",
    "- **How It’s Stored**: In memory, the sequence is contiguous along columns. After `1`, the next element is `4`, then `2` (start of next column).\n",
    "- **Indexing**: `arr_f[0, :]` gives `[1, 2, 3]` (row 0), and `arr_f[:, 0]` gives `[1, 4]` (column 0). The logical structure doesn’t change, only the memory layout.\n",
    "- **Performance**: Column-wise operations are faster because the data is stored contiguously along columns, improving cache efficiency.\n",
    "\n",
    "## Key Difference\n",
    "- **C-Order**: Optimizes row-wise access; default in NumPy.\n",
    "- **F-Order**: Optimizes column-wise access; use `order='F'` to enable.\n",
    "- Indexing (`arr[:, 0]`) returns the same column `[1, 4]` in both, as it follows the logical structure, not memory layout.\n",
    "\n",
    "## Example: Performance Impact\n"
   ]
  },
  {
   "cell_type": "code",
   "execution_count": null,
   "id": "b4085f51-bfa7-438c-9eb0-16d99595ffde",
   "metadata": {},
   "outputs": [],
   "source": [
    "import time\n",
    "# C-order array\n",
    "arr_c = np.array([[1, 2, 3], [4, 5, 6]])\n",
    "# F-order array\n",
    "arr_f = np.array([[1, 2, 3], [4, 5, 6]], order='F')\n",
    "\n",
    "# Row-wise operation (faster in C-order)\n",
    "start = time.time()\n",
    "row_sum_c = np.sum(arr_c, axis=1)  # Sum along rows\n",
    "print(\"C-order row sum time:\", time.time() - start)\n",
    "\n",
    "start = time.time()\n",
    "row_sum_f = np.sum(arr_f, axis=1)  # Sum along rows (slower in F-order)\n",
    "print(\"F-order row sum time:\", time.time() - start)\n",
    "\n",
    "# Column-wise operation (faster in F-order)\n",
    "start = time.time()\n",
    "col_sum_f = np.sum(arr_f, axis=0)  # Sum along columns\n",
    "print(\"F-order column sum time:\", time.time() - start)\n",
    "\n",
    "start = time.time()\n",
    "col_sum_c = np.sum(arr_c, axis=0)  # Sum along columns (slower in C-order)\n",
    "print(\"C-order column sum time:\", time.time() - start)"
   ]
  }
 ],
 "metadata": {
  "kernelspec": {
   "display_name": "Python [conda env:base] *",
   "language": "python",
   "name": "conda-base-py"
  },
  "language_info": {
   "codemirror_mode": {
    "name": "ipython",
    "version": 3
   },
   "file_extension": ".py",
   "mimetype": "text/x-python",
   "name": "python",
   "nbconvert_exporter": "python",
   "pygments_lexer": "ipython3",
   "version": "3.12.7"
  }
 },
 "nbformat": 4,
 "nbformat_minor": 5
}
