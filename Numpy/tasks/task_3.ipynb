{
 "cells": [
  {
   "cell_type": "markdown",
   "metadata": {},
   "source": [
    "# Customer Segmentation Analysis\n",
    "\n",
    "## Context:\n",
    "A marketing team wants to analyze customer behavior using age and annual spending data.\n",
    "\n",
    "## Input Data:\n",
    "Two 1D NumPy arrays of equal length, for example:\n",
    "\n",
    "```python\n",
    "ages = np.array([25, 32, 37, 45, 29, 50, 41, 33, 27, 38])\n",
    "spending = np.array([25000, 34000, 36000, 48000, 28000, 52000, 46000, 35000, 30000, 40000])\n",
    "```\n",
    "\n",
    "## Tasks:\n",
    "\n",
    "### 1. Filtering by Age:\n",
    "- Create a boolean mask to filter out customers aged between 30 and 50 (inclusive).\n",
    "\n",
    "### 2. Average Spending Calculation:\n",
    "- Compute the average annual spending of the filtered customers.\n",
    "  \n",
    "  $$ \\text{average\\_spending} = \\frac{\\sum_{i=1}^{n} \\text{spending}_i}{n} $$\n",
    "\n",
    "### 3. Correlation Analysis:\n",
    "- Calculate the correlation between age and spending.\n",
    "- You can compute covariance and standard deviations to derive the correlation coefficient, or use NumPy’s built-in functions.\n",
    "  \n",
    "  $$ \\rho = \\frac{\\text{cov}(X, Y)}{\\sigma_X \\sigma_Y} $$\n",
    "  \n",
    "  where:\n",
    "  - $$ \\frac{\\text{cov}(X, Y)} $$ is the covariance of age and spending.\n",
    "  - $$ \\sigma_X $$ and $$ \\sigma_Y $$ are the standard deviations of age and spending, respectively.\n",
    "\n",
    "## Expected Output:\n",
    "- The boolean mask and the filtered ages and spending arrays.\n",
    "- A single numeric value representing the average spending for the targeted age group.\n",
    "- A correlation coefficient (a float) indicating the relationship between age and spending.\n"
   ]
  },
  {
   "cell_type": "code",
   "execution_count": 90,
   "metadata": {},
   "outputs": [],
   "source": [
    "import numpy as np"
   ]
  },
  {
   "cell_type": "code",
   "execution_count": 91,
   "metadata": {},
   "outputs": [],
   "source": [
    "ages = np.array([25, 32, 37, 45, 29, 50, 41, 33, 27,29,25,29,45,50,50,32,37,32, 38])\n",
    "spending = np.array([25000, 34000,12000, 36000, 48000, 28000, 52000, 46000,64000, 35000, 30000, 40000,42000,84000,28000,32000,44000,28000,31000])\n"
   ]
  },
  {
   "cell_type": "markdown",
   "metadata": {},
   "source": [
    "## Concatenationg the arrays for easier data handling"
   ]
  },
  {
   "cell_type": "code",
   "execution_count": 92,
   "metadata": {},
   "outputs": [
    {
     "data": {
      "text/plain": [
       "array([[25000],\n",
       "       [34000],\n",
       "       [12000],\n",
       "       [36000],\n",
       "       [48000],\n",
       "       [28000],\n",
       "       [52000],\n",
       "       [46000],\n",
       "       [64000],\n",
       "       [35000],\n",
       "       [30000],\n",
       "       [40000],\n",
       "       [42000],\n",
       "       [84000],\n",
       "       [28000],\n",
       "       [32000],\n",
       "       [44000],\n",
       "       [28000],\n",
       "       [31000]])"
      ]
     },
     "execution_count": 92,
     "metadata": {},
     "output_type": "execute_result"
    }
   ],
   "source": [
    "ages= np.expand_dims(ages,axis=1)\n",
    "spending=np.expand_dims(spending,axis=1)\n",
    "spending"
   ]
  },
  {
   "cell_type": "code",
   "execution_count": 93,
   "metadata": {},
   "outputs": [
    {
     "data": {
      "text/plain": [
       "array([[   25, 25000],\n",
       "       [   32, 34000],\n",
       "       [   37, 12000],\n",
       "       [   45, 36000],\n",
       "       [   29, 48000],\n",
       "       [   50, 28000],\n",
       "       [   41, 52000],\n",
       "       [   33, 46000],\n",
       "       [   27, 64000],\n",
       "       [   29, 35000],\n",
       "       [   25, 30000],\n",
       "       [   29, 40000],\n",
       "       [   45, 42000],\n",
       "       [   50, 84000],\n",
       "       [   50, 28000],\n",
       "       [   32, 32000],\n",
       "       [   37, 44000],\n",
       "       [   32, 28000],\n",
       "       [   38, 31000]])"
      ]
     },
     "execution_count": 93,
     "metadata": {},
     "output_type": "execute_result"
    }
   ],
   "source": [
    "ages_spending_matrix= np.concatenate((ages,spending),axis=1)\n",
    "ages_spending_matrix\n",
    "# One can also use column stack for direct result"
   ]
  },
  {
   "cell_type": "markdown",
   "metadata": {},
   "source": [
    "## Filtering the data by age"
   ]
  },
  {
   "cell_type": "code",
   "execution_count": 94,
   "metadata": {},
   "outputs": [
    {
     "data": {
      "text/plain": [
       "array([[   32, 34000],\n",
       "       [   37, 12000],\n",
       "       [   45, 36000],\n",
       "       [   50, 28000],\n",
       "       [   41, 52000],\n",
       "       [   33, 46000],\n",
       "       [   45, 42000],\n",
       "       [   50, 84000],\n",
       "       [   50, 28000],\n",
       "       [   32, 32000],\n",
       "       [   37, 44000],\n",
       "       [   32, 28000],\n",
       "       [   38, 31000]])"
      ]
     },
     "execution_count": 94,
     "metadata": {},
     "output_type": "execute_result"
    }
   ],
   "source": [
    "ages_spending_matrix= ages_spending_matrix[(ages_spending_matrix[...,0]>=30) & (ages_spending_matrix[...,0]<=50)]\n",
    "ages_spending_matrix"
   ]
  },
  {
   "cell_type": "markdown",
   "metadata": {},
   "source": [
    "## Avg Spending "
   ]
  },
  {
   "cell_type": "code",
   "execution_count": 95,
   "metadata": {},
   "outputs": [
    {
     "data": {
      "text/plain": [
       "38230.769230769234"
      ]
     },
     "execution_count": 95,
     "metadata": {},
     "output_type": "execute_result"
    }
   ],
   "source": [
    "avg_spending= np.mean(ages_spending_matrix[...,1])\n",
    "# or\n",
    "# avg_spending= np.mean(ages_spending_matrix,axis=0,dtype=int)[-1]\n",
    "\n",
    "avg_spending"
   ]
  },
  {
   "cell_type": "markdown",
   "metadata": {},
   "source": [
    "# Correlation Analysis:"
   ]
  },
  {
   "cell_type": "code",
   "execution_count": 96,
   "metadata": {},
   "outputs": [
    {
     "data": {
      "text/plain": [
       "array([[1., 1.],\n",
       "       [1., 1.]])"
      ]
     },
     "execution_count": 96,
     "metadata": {},
     "output_type": "execute_result"
    }
   ],
   "source": [
    "np.corrcoef(ages_spending_matrix[0],ages_spending_matrix[1])"
   ]
  },
  {
   "cell_type": "markdown",
   "metadata": {},
   "source": [
    "# Spending Outlier Detection:\n",
    "\n"
   ]
  },
  {
   "cell_type": "code",
   "execution_count": 98,
   "metadata": {},
   "outputs": [
    {
     "name": "stdout",
     "output_type": "stream",
     "text": [
      "(13, 2)\n"
     ]
    },
    {
     "data": {
      "text/plain": [
       "array([[   32, 34000],\n",
       "       [   37, 12000],\n",
       "       [   45, 36000],\n",
       "       [   50, 28000],\n",
       "       [   41, 52000],\n",
       "       [   33, 46000],\n",
       "       [   45, 42000],\n",
       "       [   50, 84000],\n",
       "       [   50, 28000],\n",
       "       [   32, 32000],\n",
       "       [   37, 44000],\n",
       "       [   32, 28000],\n",
       "       [   38, 31000]])"
      ]
     },
     "execution_count": 98,
     "metadata": {},
     "output_type": "execute_result"
    }
   ],
   "source": [
    "print(ages_spending_matrix.shape)\n",
    "ages_spending_matrix"
   ]
  },
  {
   "cell_type": "code",
   "execution_count": 113,
   "metadata": {},
   "outputs": [
    {
     "name": "stdout",
     "output_type": "stream",
     "text": [
      "[[   32 31333]\n",
      " [   33 46000]\n",
      " [   37 28000]\n",
      " [   38 31000]\n",
      " [   41 52000]\n",
      " [   45 39000]\n",
      " [   50 46666]]\n"
     ]
    }
   ],
   "source": [
    "import numpy as np\n",
    "import pandas as pd\n",
    "\n",
    "# Given array\n",
    "data = np.array([\n",
    "    [32, 34000],\n",
    "    [37, 12000],\n",
    "    [45, 36000],\n",
    "    [50, 28000],\n",
    "    [41, 52000],\n",
    "    [33, 46000],\n",
    "    [45, 42000],\n",
    "    [50, 84000],\n",
    "    [50, 28000],\n",
    "    [32, 32000],\n",
    "    [37, 44000],\n",
    "    [32, 28000],\n",
    "    [38, 31000]\n",
    "])\n",
    "\n",
    "# Convert to DataFrame\n",
    "df = pd.DataFrame(data, columns=[\"Age\", \"Spending\"])\n",
    "\n",
    "# Compute mean spending per age\n",
    "mean_spending = df.groupby(\"Age\")[\"Spending\"].mean()\n",
    "# Convert back to NumPy array (if needed)\n",
    "result = mean_spending.reset_index().to_numpy(dtype='int')\n",
    "\n",
    "print(result)\n"
   ]
  },
  {
   "cell_type": "code",
   "execution_count": null,
   "metadata": {},
   "outputs": [],
   "source": []
  }
 ],
 "metadata": {
  "kernelspec": {
   "display_name": "Python [conda env:base] *",
   "language": "python",
   "name": "conda-base-py"
  },
  "language_info": {
   "codemirror_mode": {
    "name": "ipython",
    "version": 3
   },
   "file_extension": ".py",
   "mimetype": "text/x-python",
   "name": "python",
   "nbconvert_exporter": "python",
   "pygments_lexer": "ipython3",
   "version": "3.12.7"
  }
 },
 "nbformat": 4,
 "nbformat_minor": 2
}
