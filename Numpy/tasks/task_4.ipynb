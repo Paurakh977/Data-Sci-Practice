{
 "cells": [
  {
   "cell_type": "markdown",
   "metadata": {},
   "source": [
    "# Analyzing Website Traffic Data\n",
    "\n",
    "## Scenario:\n",
    "You're a data analyst for a company that runs an e-commerce website. You’ve been given traffic data for three website features (e.g., Homepage, Product Page, Checkout Page) across six days (Monday to Saturday). The data is stored in a 2D NumPy array where each row represents a feature and each column represents the number of user visits on a given day.\n",
    "\n",
    "## Input Data:  \n",
    "```python\n",
    "import numpy as np\n",
    "\n",
    "traffic_data = np.array([\n",
    "    [500, 520, 480, 550, 600, 620],  # Homepage\n",
    "    [300, 310, 290, 340, 350, 360],  # Product Page\n",
    "    [100, 90, 110, 120, 130, 150]    # Checkout Page\n",
    "])\n",
    "```\n",
    "\n",
    "## Tasks:\n",
    "\n",
    "### 1. Calculate Total Visits per Feature:  \n",
    "Compute the total number of visits for each website feature across all six days.  \n",
    "\n",
    "Output a 1D array with three values (one for each feature):\n",
    "$$\n",
    "\\sum_{i=1}^{6} x_{fi}, \\quad f \\in \\{\\text{Homepage, Product Page, Checkout Page}\\}\n",
    "$$\n",
    "\n",
    "### 2. Find the Day with the Most Traffic:  \n",
    "Sum the visits across all features for each day and identify which day had the highest total traffic.  \n",
    "\n",
    "Output the index of that day (0 for Monday, 1 for Tuesday, etc.):\n",
    "$$\n",
    "\\arg\\max_{d} \\sum_{f} x_{fd}\n",
    "$$\n",
    "\n",
    "### 3. Detect Features with Traffic Spikes:  \n",
    "A \"traffic spike\" occurs when the visits on a day are at least 10% higher than the visits on the previous day. For each feature (row) in the traffic_data array:\n",
    "Identify all days where a traffic spike occurs compared to the previous day.\n",
    "\n",
    "Output a list of arrays, where each array contains the day indices (0 to 5, representing Monday to Saturday) of traffic spikes for that feature.\n",
    "\n",
    "\n",
    "\n",
    "### 4. Calculate Daily Variability:  \n",
    "For each feature, compute the standard deviation of visits across the six days to measure how much traffic fluctuates.  \n",
    "\n",
    "Output a 1D array with three values (one for each feature):\n",
    "$$\n",
    "\\sigma_f = \\sqrt{\\frac{1}{6} \\sum_{d=1}^{6} (x_{fd} - \\mu_f)^2}\n",
    "$$\n",
    "where $$ \\mu_f $$ is the mean traffic for feature $$ f $$.\n",
    "\n",
    "### 5. Rank Days by Traffic for Each Feature:  \n",
    "For each feature, sort the days by the number of visits in descending order and return the indices of the days.  \n",
    "\n",
    "Output a 2D array where each row corresponds to a feature and each column is the day index in ranked order:\n",
    "$$\n",
    "\\text{argsort}(x_f)_{\\text{descending}}\n",
    "$$\n",
    "\n",
    "## Expected Output:\n",
    "\n",
    "- **Task 1**: A 1D array of shape (3,) with total visits per feature.\n",
    "- **Task 2**: An integer representing the index of the day with the highest total traffic.\n",
    "- **Task 3**: A 1D boolean array of shape (3,) indicating features with at least one traffic spike.\n",
    "- **Task 4**: A 1D array of shape (3,) with the standard deviation of visits for each feature.\n",
    "- **Task 5**: A 2D array of shape (3, 6) with day indices ranked by traffic for each feature.\n",
    "\n"
   ]
  },
  {
   "cell_type": "code",
   "execution_count": 1,
   "metadata": {},
   "outputs": [
    {
     "data": {
      "text/plain": [
       "array([[500, 520, 480, 550, 600, 620],\n",
       "       [300, 310, 290, 340, 350, 360],\n",
       "       [100,  90, 110, 120, 130, 150]])"
      ]
     },
     "execution_count": 1,
     "metadata": {},
     "output_type": "execute_result"
    }
   ],
   "source": [
    "import numpy as np\n",
    "traffic_data = np.array([\n",
    "    [500, 520, 480, 550, 600, 620],  # Homepage\n",
    "    [300, 310, 290, 340, 350, 360],  # Product Page\n",
    "    [100, 90, 110, 120, 130, 150]    # Checkout Page\n",
    "])\n",
    "traffic_data"
   ]
  },
  {
   "cell_type": "markdown",
   "metadata": {},
   "source": [
    "## Total Visits per Feature  \n",
    "\n"
   ]
  },
  {
   "cell_type": "code",
   "execution_count": 3,
   "metadata": {},
   "outputs": [
    {
     "data": {
      "text/plain": [
       "array([3270, 1950,  700])"
      ]
     },
     "execution_count": 3,
     "metadata": {},
     "output_type": "execute_result"
    }
   ],
   "source": [
    "np.sum(traffic_data,axis=1)"
   ]
  },
  {
   "cell_type": "markdown",
   "metadata": {},
   "source": [
    "# Find the Day with the Most Traffic: \n",
    "\n"
   ]
  },
  {
   "cell_type": "code",
   "execution_count": 9,
   "metadata": {},
   "outputs": [
    {
     "name": "stdout",
     "output_type": "stream",
     "text": [
      "day - 6\n"
     ]
    }
   ],
   "source": [
    "print(f\"day - {np.where(np.sum(traffic_data,axis=0) ==np.max(np.sum(traffic_data,axis=0)))[0][0]+1}\")"
   ]
  },
  {
   "cell_type": "markdown",
   "metadata": {},
   "source": [
    "## Detect Features with Traffic Spikes:  \n",
    "\n"
   ]
  },
  {
   "cell_type": "code",
   "execution_count": 11,
   "metadata": {},
   "outputs": [
    {
     "data": {
      "text/plain": [
       "array([[500, 520, 480, 550, 600, 620],\n",
       "       [300, 310, 290, 340, 350, 360],\n",
       "       [100,  90, 110, 120, 130, 150]])"
      ]
     },
     "execution_count": 11,
     "metadata": {},
     "output_type": "execute_result"
    }
   ],
   "source": [
    "traffic_data"
   ]
  },
  {
   "cell_type": "code",
   "execution_count": 27,
   "metadata": {},
   "outputs": [
    {
     "data": {
      "text/plain": [
       "array([[  0.        ,   3.84615385,  -8.33333333,  12.72727273,\n",
       "          8.33333333,   3.22580645],\n",
       "       [  0.        ,   3.22580645,  -6.89655172,  14.70588235,\n",
       "          2.85714286,   2.77777778],\n",
       "       [  0.        , -11.11111111,  18.18181818,   8.33333333,\n",
       "          7.69230769,  13.33333333]])"
      ]
     },
     "execution_count": 27,
     "metadata": {},
     "output_type": "execute_result"
    }
   ],
   "source": [
    "xyz=np.concatenate((np.expand_dims(np.array([0]*3),axis=1),(np.diff(traffic_data) / traffic_data[...,1::])*100\n",
    "),axis=1 )\n",
    "xyz"
   ]
  },
  {
   "cell_type": "code",
   "execution_count": 32,
   "metadata": {},
   "outputs": [
    {
     "data": {
      "text/plain": [
       "(array([0, 1, 2, 2], dtype=int64), array([3, 3, 2, 5], dtype=int64))"
      ]
     },
     "execution_count": 32,
     "metadata": {},
     "output_type": "execute_result"
    }
   ],
   "source": [
    "row,coln= np.where(xyz>10)\n",
    "row,coln"
   ]
  },
  {
   "cell_type": "code",
   "execution_count": 34,
   "metadata": {},
   "outputs": [
    {
     "data": {
      "text/plain": [
       "array([12.72727273, 14.70588235, 18.18181818, 13.33333333])"
      ]
     },
     "execution_count": 34,
     "metadata": {},
     "output_type": "execute_result"
    }
   ],
   "source": [
    "xyz[row,coln]"
   ]
  },
  {
   "cell_type": "code",
   "execution_count": 36,
   "metadata": {},
   "outputs": [
    {
     "name": "stdout",
     "output_type": "stream",
     "text": [
      "trafiic spikes on\n",
      "page1, day 4\n",
      "page2, day 4\n",
      "page3, day 3\n",
      "page3, day 6\n"
     ]
    }
   ],
   "source": [
    "print(\"trafiic spikes on\")\n",
    "for i,j  in zip(row,coln):\n",
    "    print(f\"page{i+1}, day {j+1}\")"
   ]
  },
  {
   "cell_type": "markdown",
   "metadata": {},
   "source": [
    "## Rank Days by Traffic for Each Feature"
   ]
  },
  {
   "cell_type": "code",
   "execution_count": 37,
   "metadata": {},
   "outputs": [
    {
     "data": {
      "text/plain": [
       "array([[500, 520, 480, 550, 600, 620],\n",
       "       [300, 310, 290, 340, 350, 360],\n",
       "       [100,  90, 110, 120, 130, 150]])"
      ]
     },
     "execution_count": 37,
     "metadata": {},
     "output_type": "execute_result"
    }
   ],
   "source": [
    "traffic_data"
   ]
  },
  {
   "cell_type": "code",
   "execution_count": 42,
   "metadata": {},
   "outputs": [
    {
     "data": {
      "text/plain": [
       "array([[5, 4, 3, 1, 0, 2],\n",
       "       [5, 4, 3, 1, 0, 2],\n",
       "       [5, 4, 3, 2, 0, 1]], dtype=int64)"
      ]
     },
     "execution_count": 42,
     "metadata": {},
     "output_type": "execute_result"
    }
   ],
   "source": [
    "# Rank days by traffic (descending order)\n",
    "ranked_days = np.argsort(-traffic_data, axis=1)\n",
    "ranked_days"
   ]
  },
  {
   "cell_type": "code",
   "execution_count": 43,
   "metadata": {},
   "outputs": [
    {
     "name": "stdout",
     "output_type": "stream",
     "text": [
      "Homepage: ['Saturday', 'Friday', 'Thursday', 'Tuesday', 'Monday', 'Wednesday']\n",
      "Product Page: ['Saturday', 'Friday', 'Thursday', 'Tuesday', 'Monday', 'Wednesday']\n",
      "Checkout Page: ['Saturday', 'Friday', 'Thursday', 'Wednesday', 'Monday', 'Tuesday']\n"
     ]
    }
   ],
   "source": [
    "day_names = [\"Monday\", \"Tuesday\", \"Wednesday\", \"Thursday\", \"Friday\", \"Saturday\"]\n",
    "feature_names = [\"Homepage\", \"Product Page\", \"Checkout Page\"]\n",
    "for i in range(ranked_days.shape[0]):\n",
    "    ranked_day_names = [day_names[idx] for idx in ranked_days[i]]\n",
    "    print(f\"{feature_names[i]}: {ranked_day_names}\")"
   ]
  }
 ],
 "metadata": {
  "kernelspec": {
   "display_name": "Python [conda env:base] *",
   "language": "python",
   "name": "conda-base-py"
  },
  "language_info": {
   "codemirror_mode": {
    "name": "ipython",
    "version": 3
   },
   "file_extension": ".py",
   "mimetype": "text/x-python",
   "name": "python",
   "nbconvert_exporter": "python",
   "pygments_lexer": "ipython3",
   "version": "3.12.7"
  }
 },
 "nbformat": 4,
 "nbformat_minor": 2
}
