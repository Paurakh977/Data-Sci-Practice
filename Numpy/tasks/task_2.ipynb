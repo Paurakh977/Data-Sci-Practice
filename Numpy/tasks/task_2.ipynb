{
 "cells": [
  {
   "cell_type": "markdown",
   "metadata": {},
   "source": [
    "# Weather Data Insights\n",
    "\n",
    "## Context:\n",
    "A research team collected temperature data from multiple sensors over a 30-day period. Each row represents one day, and each column represents a different sensor (assume 5 sensors).\n",
    "\n",
    "## Input Data:\n",
    "A 2D NumPy array (30 x 5), for example:\n",
    "\n",
    "```python\n",
    "temperatures = np.array([\n",
    "    [22.1, 21.9, 22.5, 22.0, 21.8],\n",
    "    [22.3, 22.1, 22.6, 22.2, 22.0],\n",
    "    # ... 28 more days of data\n",
    "])\n",
    "```\n",
    "(For practice, you can generate this data using `np.random.uniform` within a realistic range, e.g., 20°C to 25°C.)\n",
    "\n",
    "## Tasks:\n",
    "\n",
    "### 1. Daily Average Temperature:\n",
    "- Calculate the average temperature for each day.\n",
    "\n",
    "### 2. Extreme Temperature Detection:\n",
    "- Identify the overall maximum and minimum temperatures in the dataset.\n",
    "- Report the day index (row) and sensor index (column) for these extreme values.\n",
    "\n",
    "### 3. Unit Conversion with Broadcasting:\n",
    "- Convert the entire temperature array from Celsius to Fahrenheit using the formula:\n",
    "  \n",
    "  $$\n",
    "  \\text{Fahrenheit} = \\text{Celsius} \\times \\frac{9}{5} + 32\n",
    "  $$\n",
    "  \n",
    "- Output the converted array.\n",
    "\n",
    "### 4. Rolling Window Temperature Trends:\n",
    "- Compute a 3-day rolling average temperature for each sensor, where the average is taken over a window of 3 consecutive days (current day and the 2 previous days).\n",
    "- For days with insufficient prior data (Days 0 and 1), fill with `np.nan`.\n",
    "- Output a \\(30 \\times 5\\) array with the rolling averages.\n",
    "\n",
    "### 5. Temperature Gradient Analysis:\n",
    "- Calculate the daily temperature gradient for each sensor, defined as the difference between the maximum and minimum temperatures recorded by that sensor up to and including the current day.\n",
    "- Output a \\(30 \\times 5\\) array where each element is the gradient for that sensor up to that day (for Day 0, it’s the range within that day; for Day 1, it’s the range across Days 0-1, etc.).\n",
    "\n",
    "### 6. Sensor Consistency Ranking:\n",
    "- Define a sensor’s \"consistency\" as the inverse of the standard deviation of its temperature readings over the 30 days (i.e., lower variation = higher consistency).\n",
    "- Rank the sensors from most consistent (1) to least consistent (5).\n",
    "- Handle ties by assigning the average rank to tied sensors.\n",
    "- Output a 1D array of ranks (length = 5).\n"
   ]
  },
  {
   "cell_type": "code",
   "execution_count": 79,
   "metadata": {},
   "outputs": [
    {
     "name": "stdout",
     "output_type": "stream",
     "text": [
      "Temperatures (30 days, 5 measurements per day):\n",
      "[[21.6 21.2 21.1 21.9 22. ]\n",
      " [24.1 23.6 23.4 24.  23.7]\n",
      " [22.6 22.9 22.5 23.3 22.7]\n",
      " [22.6 22.2 22.4 22.4 22.1]\n",
      " [21.1 20.9 21.1 21.  20.7]\n",
      " [21.  20.2 20.3 20.2 20.4]\n",
      " [20.1 20.  20.6 20.1 20. ]\n",
      " [23.5 23.1 23.8 23.  24. ]\n",
      " [22.7 22.1 21.9 22.7 22.6]\n",
      " [23.1 23.1 22.4 22.7 22.4]\n",
      " [20.4 20.2 19.9 19.6 19.9]\n",
      " [23.7 24.1 24.  24.3 23.9]\n",
      " [22.9 23.5 23.6 23.4 23.6]\n",
      " [20.8 20.9 20.8 20.4 20.5]\n",
      " [20.3 20.9 20.5 20.7 21.1]\n",
      " [20.5 20.6 21.  20.5 20.3]\n",
      " [21.  20.9 21.6 21.5 21.4]\n",
      " [22.5 22.4 21.8 22.5 22.1]\n",
      " [22.  22.1 21.5 21.3 21.5]\n",
      " [21.1 21.5 21.5 20.7 21.2]\n",
      " [22.4 22.2 22.1 22.3 22.9]\n",
      " [20.4 20.6 20.8 20.4 21. ]\n",
      " [21.6 20.9 21.2 21.  21. ]\n",
      " [21.  21.6 21.5 21.  21.2]\n",
      " [22.2 21.6 21.5 21.8 22.3]\n",
      " [22.9 23.3 23.4 22.9 23.4]\n",
      " [20.7 20.9 20.9 20.8 20.4]\n",
      " [22.4 21.9 21.7 21.6 22.1]\n",
      " [22.5 21.9 22.4 22.1 22.5]\n",
      " [19.9 20.4 20.1 20.6 19.8]]\n"
     ]
    },
    {
     "data": {
      "text/plain": [
       "(30, 5)"
      ]
     },
     "execution_count": 79,
     "metadata": {},
     "output_type": "execute_result"
    }
   ],
   "source": [
    "import numpy as np\n",
    "\n",
    "# Set random seed for reproducibility (optional)\n",
    "np.random.seed(42)\n",
    "\n",
    "# Generate realistic temperature data\n",
    "# Base temperature around 22°C, with daily variation (±2°C) and hourly variation (±0.5°C)\n",
    "days = 30  # 30 days\n",
    "measurements_per_day = 5  # 5 measurements per day\n",
    "\n",
    "# Create base daily temperatures (mean temp for each day)\n",
    "base_temps = np.random.uniform(20, 24, size=days)  # Random base between 20°C and 24°C\n",
    "\n",
    "# Add variation for each measurement within the day\n",
    "temperatures = np.array([\n",
    "    base_temps[day] + np.random.uniform(-0.5, 0.5, size=measurements_per_day)\n",
    "    for day in range(days)\n",
    "])\n",
    "\n",
    "# Round to 1 decimal place for realism (like your example)\n",
    "temperatures = np.round(temperatures, decimals=1)\n",
    "\n",
    "# Print the result\n",
    "print(\"Temperatures (30 days, 5 measurements per day):\")\n",
    "print(temperatures)\n",
    "temperatures.shape"
   ]
  },
  {
   "cell_type": "markdown",
   "metadata": {},
   "source": [
    "# 1. Daily Average Temperature:"
   ]
  },
  {
   "cell_type": "code",
   "execution_count": 80,
   "metadata": {},
   "outputs": [
    {
     "data": {
      "text/plain": [
       "array([21.56, 23.76, 22.8 , 22.34, 20.96, 20.42, 20.16, 23.48, 22.4 ,\n",
       "       22.74, 20.  , 24.  , 23.4 , 20.68, 20.7 , 20.58, 21.28, 22.26,\n",
       "       21.68, 21.2 , 22.38, 20.64, 21.14, 21.26, 21.88, 23.18, 20.74,\n",
       "       21.94, 22.28, 20.16])"
      ]
     },
     "execution_count": 80,
     "metadata": {},
     "output_type": "execute_result"
    }
   ],
   "source": [
    "daily_avg= np.mean(temperatures,axis=1)\n",
    "daily_avg"
   ]
  },
  {
   "cell_type": "markdown",
   "metadata": {},
   "source": [
    "# 2. Extreme Temperature Detection:\n"
   ]
  },
  {
   "cell_type": "markdown",
   "metadata": {},
   "source": [
    "## overall maximum and minimum temperatures in the dataset.\n"
   ]
  },
  {
   "cell_type": "code",
   "execution_count": 81,
   "metadata": {},
   "outputs": [
    {
     "data": {
      "text/plain": [
       "24.3"
      ]
     },
     "execution_count": 81,
     "metadata": {},
     "output_type": "execute_result"
    }
   ],
   "source": [
    "max_temp=np.max(temperatures)\n",
    "max_temp"
   ]
  },
  {
   "cell_type": "code",
   "execution_count": 82,
   "metadata": {},
   "outputs": [
    {
     "data": {
      "text/plain": [
       "19.6"
      ]
     },
     "execution_count": 82,
     "metadata": {},
     "output_type": "execute_result"
    }
   ],
   "source": [
    "min_temp=np.min(temperatures)\n",
    "min_temp"
   ]
  },
  {
   "cell_type": "markdown",
   "metadata": {},
   "source": [
    "## Report the day index (row)"
   ]
  },
  {
   "cell_type": "code",
   "execution_count": 83,
   "metadata": {},
   "outputs": [
    {
     "name": "stdout",
     "output_type": "stream",
     "text": [
      "(array([11], dtype=int64), array([3], dtype=int64))\n"
     ]
    },
    {
     "data": {
      "text/plain": [
       "(array([10], dtype=int64), array([3], dtype=int64))"
      ]
     },
     "execution_count": 83,
     "metadata": {},
     "output_type": "execute_result"
    }
   ],
   "source": [
    "max_temp_indices=np.where(temperatures==max_temp)\n",
    "print(max_temp_indices)\n",
    "min_temp_indices=np.where(temperatures==min_temp)\n",
    "min_temp_indices"
   ]
  },
  {
   "cell_type": "code",
   "execution_count": 84,
   "metadata": {},
   "outputs": [
    {
     "name": "stdout",
     "output_type": "stream",
     "text": [
      "Max temp on day 12 with value 24.3 °C\n",
      "min temp on day 11 with value 19.6 °C\n"
     ]
    }
   ],
   "source": [
    "print(f\"Max temp on day {max_temp_indices[0][0]+1} with value {max_temp} °C\")\n",
    "print(f\"min temp on day {min_temp_indices[0][0]+1} with value {min_temp} °C\")\n"
   ]
  },
  {
   "cell_type": "markdown",
   "metadata": {},
   "source": [
    "# 3. Unit Conversion with Broadcasting:"
   ]
  },
  {
   "cell_type": "code",
   "execution_count": 85,
   "metadata": {},
   "outputs": [
    {
     "data": {
      "text/plain": [
       "array([[70.88, 70.16, 69.98, 71.42, 71.6 ],\n",
       "       [75.38, 74.48, 74.12, 75.2 , 74.66],\n",
       "       [72.68, 73.22, 72.5 , 73.94, 72.86],\n",
       "       [72.68, 71.96, 72.32, 72.32, 71.78],\n",
       "       [69.98, 69.62, 69.98, 69.8 , 69.26],\n",
       "       [69.8 , 68.36, 68.54, 68.36, 68.72],\n",
       "       [68.18, 68.  , 69.08, 68.18, 68.  ],\n",
       "       [74.3 , 73.58, 74.84, 73.4 , 75.2 ],\n",
       "       [72.86, 71.78, 71.42, 72.86, 72.68],\n",
       "       [73.58, 73.58, 72.32, 72.86, 72.32],\n",
       "       [68.72, 68.36, 67.82, 67.28, 67.82],\n",
       "       [74.66, 75.38, 75.2 , 75.74, 75.02],\n",
       "       [73.22, 74.3 , 74.48, 74.12, 74.48],\n",
       "       [69.44, 69.62, 69.44, 68.72, 68.9 ],\n",
       "       [68.54, 69.62, 68.9 , 69.26, 69.98],\n",
       "       [68.9 , 69.08, 69.8 , 68.9 , 68.54],\n",
       "       [69.8 , 69.62, 70.88, 70.7 , 70.52],\n",
       "       [72.5 , 72.32, 71.24, 72.5 , 71.78],\n",
       "       [71.6 , 71.78, 70.7 , 70.34, 70.7 ],\n",
       "       [69.98, 70.7 , 70.7 , 69.26, 70.16],\n",
       "       [72.32, 71.96, 71.78, 72.14, 73.22],\n",
       "       [68.72, 69.08, 69.44, 68.72, 69.8 ],\n",
       "       [70.88, 69.62, 70.16, 69.8 , 69.8 ],\n",
       "       [69.8 , 70.88, 70.7 , 69.8 , 70.16],\n",
       "       [71.96, 70.88, 70.7 , 71.24, 72.14],\n",
       "       [73.22, 73.94, 74.12, 73.22, 74.12],\n",
       "       [69.26, 69.62, 69.62, 69.44, 68.72],\n",
       "       [72.32, 71.42, 71.06, 70.88, 71.78],\n",
       "       [72.5 , 71.42, 72.32, 71.78, 72.5 ],\n",
       "       [67.82, 68.72, 68.18, 69.08, 67.64]])"
      ]
     },
     "execution_count": 85,
     "metadata": {},
     "output_type": "execute_result"
    }
   ],
   "source": [
    "F_temp_arr= (temperatures*9/5)+32\n",
    "F_temp_arr"
   ]
  },
  {
   "cell_type": "markdown",
   "metadata": {},
   "source": [
    "# 3-day rolling average temperature\n",
    "\n"
   ]
  },
  {
   "cell_type": "code",
   "execution_count": 86,
   "metadata": {},
   "outputs": [],
   "source": [
    "rolling_avg=np.full_like(temperatures,np.nan)"
   ]
  },
  {
   "cell_type": "code",
   "execution_count": 87,
   "metadata": {},
   "outputs": [
    {
     "name": "stdout",
     "output_type": "stream",
     "text": [
      "(30, 5)\n"
     ]
    },
    {
     "data": {
      "text/plain": [
       "array([[        nan,         nan,         nan,         nan,         nan],\n",
       "       [        nan,         nan,         nan,         nan,         nan],\n",
       "       [22.76666667, 22.56666667, 22.33333333, 23.06666667, 22.8       ],\n",
       "       [23.1       , 22.9       , 22.76666667, 23.23333333, 22.83333333],\n",
       "       [22.1       , 22.        , 22.        , 22.23333333, 21.83333333],\n",
       "       [21.56666667, 21.1       , 21.26666667, 21.2       , 21.06666667],\n",
       "       [20.73333333, 20.36666667, 20.66666667, 20.43333333, 20.36666667],\n",
       "       [21.53333333, 21.1       , 21.56666667, 21.1       , 21.46666667],\n",
       "       [22.1       , 21.73333333, 22.1       , 21.93333333, 22.2       ],\n",
       "       [23.1       , 22.76666667, 22.7       , 22.8       , 23.        ],\n",
       "       [22.06666667, 21.8       , 21.4       , 21.66666667, 21.63333333],\n",
       "       [22.4       , 22.46666667, 22.1       , 22.2       , 22.06666667],\n",
       "       [22.33333333, 22.6       , 22.5       , 22.43333333, 22.46666667],\n",
       "       [22.46666667, 22.83333333, 22.8       , 22.7       , 22.66666667],\n",
       "       [21.33333333, 21.76666667, 21.63333333, 21.5       , 21.73333333],\n",
       "       [20.53333333, 20.8       , 20.76666667, 20.53333333, 20.63333333],\n",
       "       [20.6       , 20.8       , 21.03333333, 20.9       , 20.93333333],\n",
       "       [21.33333333, 21.3       , 21.46666667, 21.5       , 21.26666667],\n",
       "       [21.83333333, 21.8       , 21.63333333, 21.76666667, 21.66666667],\n",
       "       [21.86666667, 22.        , 21.6       , 21.5       , 21.6       ],\n",
       "       [21.83333333, 21.93333333, 21.7       , 21.43333333, 21.86666667],\n",
       "       [21.3       , 21.43333333, 21.46666667, 21.13333333, 21.7       ],\n",
       "       [21.46666667, 21.23333333, 21.36666667, 21.23333333, 21.63333333],\n",
       "       [21.        , 21.03333333, 21.16666667, 20.8       , 21.06666667],\n",
       "       [21.6       , 21.36666667, 21.4       , 21.26666667, 21.5       ],\n",
       "       [22.03333333, 22.16666667, 22.13333333, 21.9       , 22.3       ],\n",
       "       [21.93333333, 21.93333333, 21.93333333, 21.83333333, 22.03333333],\n",
       "       [22.        , 22.03333333, 22.        , 21.76666667, 21.96666667],\n",
       "       [21.86666667, 21.56666667, 21.66666667, 21.5       , 21.66666667],\n",
       "       [21.6       , 21.4       , 21.4       , 21.43333333, 21.46666667]])"
      ]
     },
     "execution_count": 87,
     "metadata": {},
     "output_type": "execute_result"
    }
   ],
   "source": [
    "for i in range(2,temperatures.shape[0]):\n",
    "    rolling_avg[i]= np.mean(temperatures[i-2:i+1],axis=0)\n",
    "\n",
    "print(rolling_avg.shape)\n",
    "rolling_avg"
   ]
  },
  {
   "cell_type": "markdown",
   "metadata": {},
   "source": [
    "# 5. Temperature Gradient Analysis:"
   ]
  },
  {
   "cell_type": "code",
   "execution_count": 88,
   "metadata": {},
   "outputs": [
    {
     "data": {
      "text/plain": [
       "array([[21.6, 21.2, 21.1, 21.9, 22. ],\n",
       "       [24.1, 23.6, 23.4, 24. , 23.7],\n",
       "       [22.6, 22.9, 22.5, 23.3, 22.7],\n",
       "       [22.6, 22.2, 22.4, 22.4, 22.1],\n",
       "       [21.1, 20.9, 21.1, 21. , 20.7],\n",
       "       [21. , 20.2, 20.3, 20.2, 20.4],\n",
       "       [20.1, 20. , 20.6, 20.1, 20. ],\n",
       "       [23.5, 23.1, 23.8, 23. , 24. ],\n",
       "       [22.7, 22.1, 21.9, 22.7, 22.6],\n",
       "       [23.1, 23.1, 22.4, 22.7, 22.4],\n",
       "       [20.4, 20.2, 19.9, 19.6, 19.9],\n",
       "       [23.7, 24.1, 24. , 24.3, 23.9],\n",
       "       [22.9, 23.5, 23.6, 23.4, 23.6],\n",
       "       [20.8, 20.9, 20.8, 20.4, 20.5],\n",
       "       [20.3, 20.9, 20.5, 20.7, 21.1],\n",
       "       [20.5, 20.6, 21. , 20.5, 20.3],\n",
       "       [21. , 20.9, 21.6, 21.5, 21.4],\n",
       "       [22.5, 22.4, 21.8, 22.5, 22.1],\n",
       "       [22. , 22.1, 21.5, 21.3, 21.5],\n",
       "       [21.1, 21.5, 21.5, 20.7, 21.2],\n",
       "       [22.4, 22.2, 22.1, 22.3, 22.9],\n",
       "       [20.4, 20.6, 20.8, 20.4, 21. ],\n",
       "       [21.6, 20.9, 21.2, 21. , 21. ],\n",
       "       [21. , 21.6, 21.5, 21. , 21.2],\n",
       "       [22.2, 21.6, 21.5, 21.8, 22.3],\n",
       "       [22.9, 23.3, 23.4, 22.9, 23.4],\n",
       "       [20.7, 20.9, 20.9, 20.8, 20.4],\n",
       "       [22.4, 21.9, 21.7, 21.6, 22.1],\n",
       "       [22.5, 21.9, 22.4, 22.1, 22.5],\n",
       "       [19.9, 20.4, 20.1, 20.6, 19.8]])"
      ]
     },
     "execution_count": 88,
     "metadata": {},
     "output_type": "execute_result"
    }
   ],
   "source": [
    "temperatures"
   ]
  },
  {
   "cell_type": "code",
   "execution_count": 89,
   "metadata": {},
   "outputs": [],
   "source": [
    "temp_grad=np.zeros(temperatures.shape)\n"
   ]
  },
  {
   "cell_type": "code",
   "execution_count": 90,
   "metadata": {},
   "outputs": [
    {
     "data": {
      "text/plain": [
       "array([[0. , 0. , 0. , 0. , 0. ],\n",
       "       [2.5, 2.4, 2.3, 2.1, 1.7],\n",
       "       [2.5, 2.4, 2.3, 2.1, 1.7],\n",
       "       [2.5, 2.4, 2.3, 2.1, 1.7],\n",
       "       [3. , 2.7, 2.3, 3. , 3. ],\n",
       "       [3.1, 3.4, 3.1, 3.8, 3.3],\n",
       "       [4. , 3.6, 3.1, 3.9, 3.7],\n",
       "       [4. , 3.6, 3.5, 3.9, 4. ],\n",
       "       [4. , 3.6, 3.5, 3.9, 4. ],\n",
       "       [4. , 3.6, 3.5, 3.9, 4. ],\n",
       "       [4. , 3.6, 3.9, 4.4, 4.1],\n",
       "       [4. , 4.1, 4.1, 4.7, 4.1],\n",
       "       [4. , 4.1, 4.1, 4.7, 4.1],\n",
       "       [4. , 4.1, 4.1, 4.7, 4.1],\n",
       "       [4. , 4.1, 4.1, 4.7, 4.1],\n",
       "       [4. , 4.1, 4.1, 4.7, 4.1],\n",
       "       [4. , 4.1, 4.1, 4.7, 4.1],\n",
       "       [4. , 4.1, 4.1, 4.7, 4.1],\n",
       "       [4. , 4.1, 4.1, 4.7, 4.1],\n",
       "       [4. , 4.1, 4.1, 4.7, 4.1],\n",
       "       [4. , 4.1, 4.1, 4.7, 4.1],\n",
       "       [4. , 4.1, 4.1, 4.7, 4.1],\n",
       "       [4. , 4.1, 4.1, 4.7, 4.1],\n",
       "       [4. , 4.1, 4.1, 4.7, 4.1],\n",
       "       [4. , 4.1, 4.1, 4.7, 4.1],\n",
       "       [4. , 4.1, 4.1, 4.7, 4.1],\n",
       "       [4. , 4.1, 4.1, 4.7, 4.1],\n",
       "       [4. , 4.1, 4.1, 4.7, 4.1],\n",
       "       [4. , 4.1, 4.1, 4.7, 4.1],\n",
       "       [4.2, 4.1, 4.1, 4.7, 4.2]])"
      ]
     },
     "execution_count": 90,
     "metadata": {},
     "output_type": "execute_result"
    }
   ],
   "source": [
    "#column wise approach\n",
    "for j in range(temperatures.shape[1]):  # Sensors\n",
    "    for i in range(temperatures.shape[0]):  # Days\n",
    "        temp_grad[i, j] = np.max(temperatures[:i+1, j]) - np.min(temperatures[:i+1, j])\n",
    "        \n",
    "temp_grad"
   ]
  },
  {
   "cell_type": "code",
   "execution_count": 91,
   "metadata": {},
   "outputs": [
    {
     "data": {
      "text/plain": [
       "array([[0. , 0. , 0. , 0. , 0. ],\n",
       "       [2.5, 2.4, 2.3, 2.1, 1.7],\n",
       "       [2.5, 2.4, 2.3, 2.1, 1.7],\n",
       "       [2.5, 2.4, 2.3, 2.1, 1.7],\n",
       "       [3. , 2.7, 2.3, 3. , 3. ],\n",
       "       [3.1, 3.4, 3.1, 3.8, 3.3],\n",
       "       [4. , 3.6, 3.1, 3.9, 3.7],\n",
       "       [4. , 3.6, 3.5, 3.9, 4. ],\n",
       "       [4. , 3.6, 3.5, 3.9, 4. ],\n",
       "       [4. , 3.6, 3.5, 3.9, 4. ],\n",
       "       [4. , 3.6, 3.9, 4.4, 4.1],\n",
       "       [4. , 4.1, 4.1, 4.7, 4.1],\n",
       "       [4. , 4.1, 4.1, 4.7, 4.1],\n",
       "       [4. , 4.1, 4.1, 4.7, 4.1],\n",
       "       [4. , 4.1, 4.1, 4.7, 4.1],\n",
       "       [4. , 4.1, 4.1, 4.7, 4.1],\n",
       "       [4. , 4.1, 4.1, 4.7, 4.1],\n",
       "       [4. , 4.1, 4.1, 4.7, 4.1],\n",
       "       [4. , 4.1, 4.1, 4.7, 4.1],\n",
       "       [4. , 4.1, 4.1, 4.7, 4.1],\n",
       "       [4. , 4.1, 4.1, 4.7, 4.1],\n",
       "       [4. , 4.1, 4.1, 4.7, 4.1],\n",
       "       [4. , 4.1, 4.1, 4.7, 4.1],\n",
       "       [4. , 4.1, 4.1, 4.7, 4.1],\n",
       "       [4. , 4.1, 4.1, 4.7, 4.1],\n",
       "       [4. , 4.1, 4.1, 4.7, 4.1],\n",
       "       [4. , 4.1, 4.1, 4.7, 4.1],\n",
       "       [4. , 4.1, 4.1, 4.7, 4.1],\n",
       "       [4. , 4.1, 4.1, 4.7, 4.1],\n",
       "       [4.2, 4.1, 4.1, 4.7, 4.2]])"
      ]
     },
     "execution_count": 91,
     "metadata": {},
     "output_type": "execute_result"
    }
   ],
   "source": [
    "#Row wise approach\n",
    "for i in range(1, 30):\n",
    "\n",
    "    cum_max = np.max(temperatures[:i+1, :], axis=0)\n",
    "    cum_min = np.min(temperatures[:i+1, :], axis=0)\n",
    "    temp_grad[i,:]= cum_max-cum_min\n",
    "\n",
    "temp_grad\n",
    "        "
   ]
  }
 ],
 "metadata": {
  "kernelspec": {
   "display_name": "Python [conda env:base] *",
   "language": "python",
   "name": "conda-base-py"
  },
  "language_info": {
   "codemirror_mode": {
    "name": "ipython",
    "version": 3
   },
   "file_extension": ".py",
   "mimetype": "text/x-python",
   "name": "python",
   "nbconvert_exporter": "python",
   "pygments_lexer": "ipython3",
   "version": "3.12.7"
  }
 },
 "nbformat": 4,
 "nbformat_minor": 2
}
