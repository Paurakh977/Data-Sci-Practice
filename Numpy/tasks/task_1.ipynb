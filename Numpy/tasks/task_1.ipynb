{
 "cells": [
  {
   "cell_type": "markdown",
   "metadata": {},
   "source": [
    "# Financial Time Series Analysis\n",
    "\n",
    "## Context:\n",
    "You have an array of daily closing prices for a stock over a month (30 days).\n",
    "\n",
    "## Input Data:\n",
    "A 1D NumPy array, for example:\n",
    "\n",
    "```python\n",
    "closing_prices = np.array([100.5, 101.2, 102.3, 99.8, 100.0, 101.5, 102.8, 103.0, 102.0, 101.0,\n",
    "                            100.8, 102.5, 103.2, 104.0, 103.5, 102.7, 101.9, 102.2, 103.1, 104.5,\n",
    "                            105.0, 104.2, 103.8, 104.0, 105.5, 106.2, 105.8, 105.0, 104.5, 105.0])\n",
    "```\n",
    "\n",
    "## Tasks:\n",
    "\n",
    "### 1. Moving Average Calculation:\n",
    "- Compute a 5-day moving average.\n",
    "- For the first 4 days, you can either leave the moving average undefined (or use `np.nan`) or start from day 5.\n",
    "\n",
    "### 2. Price Comparison:\n",
    "- Create a boolean mask indicating on which days the closing price is higher than the moving average (for days where the moving average is computed).\n",
    "\n",
    "### 3. Percentage Change (Bonus):\n",
    "- Calculate the percentage change between each consecutive day using the formula:\n",
    "  \n",
    "  $$\n",
    "  \\text{pct\\_change} = \\frac{\\text{price}_i - \\text{price}_{i-1}}{\\text{price}_{i-1}} \\times 100\n",
    "  $$\n",
    "  \n",
    "- The first day can be marked as `np.nan` since there is no previous day.\n",
    "\n",
    "### 4. Cumulative Return (Bonus):\n",
    "- Calculate the cumulative return over the 30 days, showing the total percentage growth from Day 1 to each subsequent day using the formula:\n",
    "  \n",
    "  $$\n",
    "  \\text{cumulative\\_return}_i = \\frac{\\text{price}_i - \\text{price}_0}{\\text{price}_0} \\times 100\n",
    "  $$\n",
    "  \n",
    "- Day 1 (index 0) has a cumulative return of 0% since it’s the starting point.\n",
    "\n",
    "## Expected Output:\n",
    "- An array of moving averages (same length as `closing_prices` with the first few values as `np.nan` if not computed).\n",
    "- A boolean array indicating days where the closing price exceeds the moving average.\n",
    "- An array of percentage changes between consecutive days.\n",
    "- An array of cumulative returns from Day 1 to the last day."
   ]
  },
  {
   "cell_type": "code",
   "execution_count": 1,
   "metadata": {},
   "outputs": [],
   "source": [
    "import numpy as np"
   ]
  },
  {
   "cell_type": "code",
   "execution_count": 2,
   "metadata": {},
   "outputs": [],
   "source": [
    "closing_prices = np.array([100.5, 101.2, 102.3, 99.8, 100.0, 101.5, 102.8, 103.0, 102.0, 101.0,\n",
    "                            100.8, 102.5, 103.2, 104.0, 103.5, 102.7, 101.9, 102.2, 103.1, 104.5,\n",
    "                            105.0, 104.2, 103.8, 104.0, 105.5, 106.2, 105.8, 105.0, 104.5, 105.0])"
   ]
  },
  {
   "cell_type": "markdown",
   "metadata": {},
   "source": [
    "# 1. Moving Average Calculation:"
   ]
  },
  {
   "cell_type": "code",
   "execution_count": 3,
   "metadata": {},
   "outputs": [
    {
     "data": {
      "text/plain": [
       "array([nan, nan, nan, nan, nan, nan, nan, nan, nan, nan, nan, nan, nan,\n",
       "       nan, nan, nan, nan, nan, nan, nan, nan, nan, nan, nan, nan, nan,\n",
       "       nan, nan, nan, nan])"
      ]
     },
     "execution_count": 3,
     "metadata": {},
     "output_type": "execute_result"
    }
   ],
   "source": [
    "moving_avg= np.full_like(closing_prices,np.nan)\n",
    "moving_avg"
   ]
  },
  {
   "cell_type": "code",
   "execution_count": 5,
   "metadata": {},
   "outputs": [
    {
     "data": {
      "text/plain": [
       "array([   nan,    nan,    nan,    nan, 100.76, 100.96, 101.28, 101.42,\n",
       "       101.86, 102.06, 101.92, 101.86, 101.9 , 102.3 , 102.8 , 103.18,\n",
       "       103.06, 102.86, 102.68, 102.88, 103.34, 103.8 , 104.12, 104.3 ,\n",
       "       104.5 , 104.74, 105.06, 105.3 , 105.4 , 105.3 ])"
      ]
     },
     "execution_count": 5,
     "metadata": {},
     "output_type": "execute_result"
    }
   ],
   "source": [
    "for i in range(4,len(closing_prices)):\n",
    "    moving_avg[i]=np.mean(closing_prices[i-4:i+1])\n",
    "moving_avg"
   ]
  },
  {
   "cell_type": "markdown",
   "metadata": {},
   "source": [
    "# 2. Price Comparison:"
   ]
  },
  {
   "cell_type": "code",
   "execution_count": 7,
   "metadata": {},
   "outputs": [
    {
     "data": {
      "text/plain": [
       "array([False, False, False, False, False,  True,  True,  True,  True,\n",
       "       False, False,  True,  True,  True,  True, False, False, False,\n",
       "        True,  True,  True,  True, False, False,  True,  True,  True,\n",
       "       False, False, False])"
      ]
     },
     "execution_count": 7,
     "metadata": {},
     "output_type": "execute_result"
    }
   ],
   "source": [
    "closing_prices>moving_avg"
   ]
  },
  {
   "cell_type": "code",
   "execution_count": 12,
   "metadata": {},
   "outputs": [
    {
     "data": {
      "text/plain": [
       "array(['day-6', 'day-7', 'day-8', 'day-9', 'day-12', 'day-13', 'day-14',\n",
       "       'day-15', 'day-19', 'day-20', 'day-21', 'day-22', 'day-25',\n",
       "       'day-26', 'day-27'], dtype='<U6')"
      ]
     },
     "execution_count": 12,
     "metadata": {},
     "output_type": "execute_result"
    }
   ],
   "source": [
    "# days on which closing price are greater than the moving average :\n",
    "\n",
    "indices = np.where(closing_prices > moving_avg)[0]\n",
    "days_above = np.array([f\"day-{i+1}\" for i in indices])\n",
    "days_above"
   ]
  },
  {
   "cell_type": "markdown",
   "metadata": {},
   "source": [
    "# 3. Percentage Change (Bonus):"
   ]
  },
  {
   "cell_type": "code",
   "execution_count": 13,
   "metadata": {},
   "outputs": [
    {
     "data": {
      "text/plain": [
       "array([100.5, 101.2, 102.3,  99.8, 100. , 101.5, 102.8, 103. , 102. ,\n",
       "       101. , 100.8, 102.5, 103.2, 104. , 103.5, 102.7, 101.9, 102.2,\n",
       "       103.1, 104.5, 105. , 104.2, 103.8, 104. , 105.5, 106.2, 105.8,\n",
       "       105. , 104.5, 105. ])"
      ]
     },
     "execution_count": 13,
     "metadata": {},
     "output_type": "execute_result"
    }
   ],
   "source": [
    "# re-pritingin the array\n",
    "closing_prices"
   ]
  },
  {
   "cell_type": "code",
   "execution_count": 48,
   "metadata": {},
   "outputs": [
    {
     "data": {
      "text/plain": [
       "array([        nan,  0.69651741,  1.08695652, -2.44379277,  0.2004008 ,\n",
       "        1.5       ,  1.28078818,  0.19455253, -0.97087379, -0.98039216,\n",
       "       -0.1980198 ,  1.68650794,  0.68292683,  0.7751938 , -0.48076923,\n",
       "       -0.77294686, -0.77896787,  0.29440628,  0.88062622,  1.35790495,\n",
       "        0.4784689 , -0.76190476, -0.38387716,  0.19267823,  1.44230769,\n",
       "        0.66350711, -0.37664783, -0.75614367, -0.47619048,  0.4784689 ])"
      ]
     },
     "execution_count": 48,
     "metadata": {},
     "output_type": "execute_result"
    }
   ],
   "source": [
    "percentage_change_arr= np.concatenate( ( np.array([np.nan]) , np.diff(closing_prices)/closing_prices[:-1] *100 ) )\n",
    "percentage_change_arr "
   ]
  },
  {
   "cell_type": "markdown",
   "metadata": {},
   "source": [
    "# 4. Cumulative Return (Bonus):"
   ]
  },
  {
   "cell_type": "code",
   "execution_count": 52,
   "metadata": {},
   "outputs": [
    {
     "data": {
      "text/plain": [
       "array([ 0.        ,  0.69651741,  1.79104478, -0.69651741, -0.49751244,\n",
       "        0.99502488,  2.28855721,  2.48756219,  1.49253731,  0.49751244,\n",
       "        0.29850746,  1.99004975,  2.68656716,  3.48258706,  2.98507463,\n",
       "        2.18905473,  1.39303483,  1.69154229,  2.58706468,  3.9800995 ,\n",
       "        4.47761194,  3.68159204,  3.28358209,  3.48258706,  4.97512438,\n",
       "        5.67164179,  5.27363184,  4.47761194,  3.9800995 ,  4.47761194])"
      ]
     },
     "execution_count": 52,
     "metadata": {},
     "output_type": "execute_result"
    }
   ],
   "source": [
    "cumulative_rturn= np.divide(closing_prices- closing_prices[0],closing_prices[0])*100\n",
    "cumulative_rturn"
   ]
  },
  {
   "cell_type": "markdown",
   "metadata": {},
   "source": [
    "# Days with positive percentage change"
   ]
  },
  {
   "cell_type": "code",
   "execution_count": 65,
   "metadata": {},
   "outputs": [
    {
     "data": {
      "text/plain": [
       "array(['day-2', 'day-3', 'day-5', 'day-6', 'day-7', 'day-8', 'day-12',\n",
       "       'day-13', 'day-14', 'day-18', 'day-19', 'day-20', 'day-21',\n",
       "       'day-24', 'day-25', 'day-26', 'day-30'], dtype='<U6')"
      ]
     },
     "execution_count": 65,
     "metadata": {},
     "output_type": "execute_result"
    }
   ],
   "source": [
    "np.array([ f\"day-{i+1}\" for i in np.where(percentage_change_arr>0)[0] ])"
   ]
  },
  {
   "cell_type": "markdown",
   "metadata": {},
   "source": [
    "# Days feasible to sell with profit percentage and amnt\n",
    "### Return type: column matrix where colum1 represents the day, column 2 represents the % and colmun 3 reperesnets the profit amnt"
   ]
  },
  {
   "cell_type": "code",
   "execution_count": 90,
   "metadata": {},
   "outputs": [
    {
     "data": {
      "text/plain": [
       "array([[ 2.     ,  0.7    ,  0.7035 ],\n",
       "       [ 3.     ,  1.79   ,  1.79895],\n",
       "       [ 6.     ,  1.     ,  1.005  ],\n",
       "       [ 7.     ,  2.29   ,  2.30145],\n",
       "       [ 8.     ,  2.49   ,  2.50245],\n",
       "       [ 9.     ,  1.49   ,  1.49745],\n",
       "       [10.     ,  0.5    ,  0.5025 ],\n",
       "       [11.     ,  0.3    ,  0.3015 ],\n",
       "       [12.     ,  1.99   ,  1.99995],\n",
       "       [13.     ,  2.69   ,  2.70345],\n",
       "       [14.     ,  3.48   ,  3.4974 ],\n",
       "       [15.     ,  2.99   ,  3.00495],\n",
       "       [16.     ,  2.19   ,  2.20095],\n",
       "       [17.     ,  1.39   ,  1.39695],\n",
       "       [18.     ,  1.69   ,  1.69845],\n",
       "       [19.     ,  2.59   ,  2.60295],\n",
       "       [20.     ,  3.98   ,  3.9999 ],\n",
       "       [21.     ,  4.48   ,  4.5024 ],\n",
       "       [22.     ,  3.68   ,  3.6984 ],\n",
       "       [23.     ,  3.28   ,  3.2964 ],\n",
       "       [24.     ,  3.48   ,  3.4974 ],\n",
       "       [25.     ,  4.98   ,  5.0049 ],\n",
       "       [26.     ,  5.67   ,  5.69835],\n",
       "       [27.     ,  5.27   ,  5.29635],\n",
       "       [28.     ,  4.48   ,  4.5024 ],\n",
       "       [29.     ,  3.98   ,  3.9999 ],\n",
       "       [30.     ,  4.48   ,  4.5024 ]], dtype=float32)"
      ]
     },
     "execution_count": 90,
     "metadata": {},
     "output_type": "execute_result"
    }
   ],
   "source": [
    "np.array(\n",
    "    [   [ index+1, item, closing_prices[0]*item/100]\n",
    "        for index,item in enumerate(cumulative_rturn.round(2))\n",
    "        if item > 0\n",
    "    ]\n",
    "    ,dtype='float32'\n",
    ")"
   ]
  },
  {
   "cell_type": "code",
   "execution_count": 112,
   "metadata": {},
   "outputs": [
    {
     "name": "stdout",
     "output_type": "stream",
     "text": [
      "the best day to sell was on day 26\n"
     ]
    }
   ],
   "source": [
    "cumulative_rturn_rounded = cumulative_rturn.round(2)\n",
    "print(f\"the best day to sell was on day {np.where(cumulative_rturn_rounded == np.max(cumulative_rturn_rounded))[0][0] + 1}\")"
   ]
  }
 ],
 "metadata": {
  "kernelspec": {
   "display_name": "Python [conda env:base] *",
   "language": "python",
   "name": "conda-base-py"
  },
  "language_info": {
   "codemirror_mode": {
    "name": "ipython",
    "version": 3
   },
   "file_extension": ".py",
   "mimetype": "text/x-python",
   "name": "python",
   "nbconvert_exporter": "python",
   "pygments_lexer": "ipython3",
   "version": "3.12.7"
  }
 },
 "nbformat": 4,
 "nbformat_minor": 2
}
