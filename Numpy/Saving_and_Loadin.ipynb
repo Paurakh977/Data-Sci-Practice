{
 "cells": [
  {
   "cell_type": "code",
   "execution_count": 2,
   "id": "dc4d5250-fdfa-4a99-9965-820dbf7983b1",
   "metadata": {},
   "outputs": [],
   "source": [
    "import numpy as np"
   ]
  },
  {
   "cell_type": "markdown",
   "id": "b21642da-e7cd-43e0-8a7a-ed2e28338e5a",
   "metadata": {},
   "source": [
    "# NumPy Guide: Saving and Loading Objects\n",
    "\n",
    "## Introduction\n",
    "\n",
    "When working with NumPy, you will often need to save arrays to disk and reload them later. NumPy provides several functions for this purpose, including:\n",
    "\n",
    "- `np.save` and `np.load` for saving and loading single arrays in binary format (.npy)\n",
    "- `np.savez` and `np.savez_compressed` for saving multiple arrays in a single file (.npz)\n",
    "- `np.savetxt` and `np.loadtxt` for working with text-based storage\n",
    "\n",
    "This guide explores each method in detail with examples and expected outputs.\n",
    "\n",
    "---\n",
    "\n",
    "## 1. Saving and Loading Single Arrays (`.npy` format)\n",
    "\n",
    "### `np.save()`\n",
    "\n",
    "Use `np.save()` to save a single NumPy array in binary format (.npy). This format preserves the data type and shape, ensuring accurate retrieval later.\n",
    "\n",
    "### Example:\n",
    "\n",
    "```python\n",
    "import numpy as np\n",
    "\n",
    "# Creating an array\n",
    "data = np.array([[1, 2, 3], [4, 5, 6]])\n",
    "\n",
    "# Saving the array\n",
    "data_filename = \"array.npy\"\n",
    "np.save(data_filename, data)\n",
    "print(f\"Array saved as {data_filename}\")\n",
    "```\n",
    "\n",
    "### `np.load()`\n",
    "\n",
    "Use `np.load()` to load an `.npy` file.\n",
    "\n",
    "```python\n",
    "# Loading the saved array\n",
    "loaded_data = np.load(\"array.npy\")\n",
    "print(\"Loaded Data:\")\n",
    "print(loaded_data)\n",
    "```\n",
    "\n",
    "### Output:\n",
    "```\n",
    "Array saved as array.npy\n",
    "Loaded Data:\n",
    "[[1 2 3]\n",
    " [4 5 6]]\n",
    "```\n",
    "\n",
    "---\n",
    "\n",
    "## 2. Saving and Loading Multiple Arrays (`.npz` format)\n",
    "\n",
    "### `np.savez()`\n",
    "\n",
    "Use `np.savez()` to store multiple arrays in a single file.\n",
    "\n",
    "### Example:\n",
    "\n",
    "```python\n",
    "# Creating multiple arrays\n",
    "data1 = np.array([10, 20, 30])\n",
    "data2 = np.array([[1, 2], [3, 4]])\n",
    "\n",
    "# Saving multiple arrays\n",
    "np.savez(\"multiple_arrays.npz\", array1=data1, array2=data2)\n",
    "print(\"Multiple arrays saved.\")\n",
    "```\n",
    "\n",
    "### `np.load()` for `.npz`\n",
    "\n",
    "```python\n",
    "# Loading multiple arrays\n",
    "loaded = np.load(\"multiple_arrays.npz\")\n",
    "\n",
    "print(\"Array 1:\", loaded[\"array1\"])\n",
    "print(\"Array 2:\")\n",
    "print(loaded[\"array2\"])\n",
    "```\n",
    "**you can use np.load(\"file.npz\").files** to see all the array names that are saved and  acess accordingly by their name\n",
    "### Output:\n",
    "```\n",
    "Multiple arrays saved.\n",
    "Array 1: [10 20 30]\n",
    "Array 2:\n",
    "[[1 2]\n",
    " [3 4]]\n",
    "```\n",
    "\n",
    "---\n",
    "\n",
    "## 3. Saving and Loading Text Files (`.txt` format)\n",
    "\n",
    "### `np.savetxt()`\n",
    "\n",
    "Use `np.savetxt()` to save arrays in human-readable text format. This is useful for interoperability with other tools that may not support `.npy` or `.npz`.\n",
    "\n",
    "### Example:\n",
    "\n",
    "```python\n",
    "# Creating a float array\n",
    "data = np.array([[1.5, 2.5, 3.5], [4.5, 5.5, 6.5]])\n",
    "\n",
    "# Saving as a text file\n",
    "np.savetxt(\"array.txt\", data, delimiter=\",\", fmt=\"%.2f\")\n",
    "print(\"Array saved as text.\")\n",
    "```\n",
    "**You can also pass the tupe of arrays to store multiple arrays. For further info see documentation using help(savetxt)\n",
    "### `np.loadtxt()`\n",
    "\n",
    "Use `np.loadtxt()` to load data from a text file.\n",
    "\n",
    "```python\n",
    "# Loading from a text file\n",
    "loaded_data = np.loadtxt(\"array.txt\", delimiter=\",\")\n",
    "print(\"Loaded Data:\")\n",
    "print(loaded_data)\n",
    "```\n",
    "\n",
    "### Output:\n",
    "```\n",
    "Array saved as text.\n",
    "Loaded Data:\n",
    "[[1.5 2.5 3.5]\n",
    " [4.5 5.5 6.5]]\n",
    "```\n",
    "\n",
    "---\n",
    "\n",
    "## 4. Compressed Storage (`.npz` format)\n",
    "\n",
    "For large arrays, use `np.savez_compressed()` to reduce file size.\n",
    "\n",
    "### Example:\n",
    "\n",
    "```python\n",
    "# Saving compressed arrays\n",
    "np.savez_compressed(\"compressed.npz\", array1=data1, array2=data2)\n",
    "print(\"Compressed arrays saved.\")\n",
    "```\n",
    "\n",
    "### Output:\n",
    "```\n",
    "Compressed arrays saved.\n",
    "```\n",
    "\n",
    "This reduces disk space usage while preserving data integrity.\n",
    "\n",
    "---\n",
    "\n",
    "## Conclusion\n",
    "\n",
    "- Use `.npy` for saving single arrays efficiently.\n",
    "- Use `.npz` when storing multiple arrays.\n",
    "- Use `.savetxt` when human readability or compatibility with other programs is required.\n",
    "- Use `.npz_compressed` for large datasets to save space.\n",
    "\n"
   ]
  },
  {
   "cell_type": "code",
   "execution_count": 7,
   "id": "673ef1ff-dd18-4558-a0c2-e85e5040e0f5",
   "metadata": {},
   "outputs": [
    {
     "name": "stdout",
     "output_type": "stream",
     "text": [
      "Array saved as array.npy\n"
     ]
    }
   ],
   "source": [
    "# Creating an array\n",
    "data = np.array([[1, 2, 3], [4, 5, 6]])\n",
    "\n",
    "# Saving the array\n",
    "data_filename = \"array.npy\"\n",
    "np.save(data_filename, data)\n",
    "print(f\"Array saved as {data_filename}\")"
   ]
  },
  {
   "cell_type": "code",
   "execution_count": 11,
   "id": "5c85fda0-fd3a-4610-a351-4cb53de37cc7",
   "metadata": {},
   "outputs": [
    {
     "name": "stdout",
     "output_type": "stream",
     "text": [
      "Loaded Data:\n",
      "[[1 2 3]\n",
      " [4 5 6]]\n"
     ]
    }
   ],
   "source": [
    "# Loading the saved array\n",
    "loaded_data = np.load(\"array.npy\")\n",
    "print(\"Loaded Data:\")\n",
    "print(loaded_data)"
   ]
  },
  {
   "cell_type": "code",
   "execution_count": 19,
   "id": "29cc64f8-d807-4d5b-8c14-c7c95f7e8734",
   "metadata": {},
   "outputs": [
    {
     "name": "stdout",
     "output_type": "stream",
     "text": [
      "Multiple arrays saved.\n"
     ]
    }
   ],
   "source": [
    "data1 = np.array([10, 20, 30])\n",
    "data2 = np.array([[1, 2], [3, 4]])\n",
    "\n",
    "# Saving multiple arrays\n",
    "np.savez(\"multiple_arrays.npz\", x1=data1, x2=data2)\n",
    "print(\"Multiple arrays saved.\")"
   ]
  },
  {
   "cell_type": "code",
   "execution_count": 25,
   "id": "92580225-0067-4193-8957-fa0f0a3e7eb4",
   "metadata": {},
   "outputs": [
    {
     "name": "stdout",
     "output_type": "stream",
     "text": [
      "Array 1: [10 20 30]\n",
      "Array 2:\n",
      "[[1 2]\n",
      " [3 4]]\n"
     ]
    },
    {
     "data": {
      "text/plain": [
       "['x1', 'x2']"
      ]
     },
     "execution_count": 25,
     "metadata": {},
     "output_type": "execute_result"
    }
   ],
   "source": [
    "loaded = np.load(\"multiple_arrays.npz\")\n",
    "\n",
    "print(\"Array 1:\", loaded[\"x1\"])\n",
    "print(\"Array 2:\")\n",
    "print(loaded[\"x2\"])\n",
    "loaded.files"
   ]
  },
  {
   "cell_type": "code",
   "execution_count": 30,
   "id": "5d7cebee-8197-4777-8461-2f103f494d57",
   "metadata": {},
   "outputs": [
    {
     "name": "stdout",
     "output_type": "stream",
     "text": [
      "Array saved as text.\n"
     ]
    }
   ],
   "source": [
    "# Creating a float array\n",
    "data = np.array([[1.5, 2.5, 3.5], [4.5, 5.5, 6.5]])\n",
    "\n",
    "# Saving as a text file\n",
    "np.savetxt(\"array.txt\", data, delimiter=\",\", fmt=\"%.2f\")\n",
    "print(\"Array saved as text.\")"
   ]
  },
  {
   "cell_type": "code",
   "execution_count": 33,
   "id": "b57b0c49-b1d6-47fd-bc13-93f431b53d39",
   "metadata": {},
   "outputs": [
    {
     "name": "stdout",
     "output_type": "stream",
     "text": [
      "Loaded Data:\n",
      "[[1.5 2.5 3.5]\n",
      " [4.5 5.5 6.5]]\n"
     ]
    }
   ],
   "source": [
    "loaded_data = np.loadtxt(\"array.txt\", delimiter=\",\")\n",
    "print(\"Loaded Data:\")\n",
    "print(loaded_data)"
   ]
  }
 ],
 "metadata": {
  "kernelspec": {
   "display_name": "Python [conda env:base] *",
   "language": "python",
   "name": "conda-base-py"
  },
  "language_info": {
   "codemirror_mode": {
    "name": "ipython",
    "version": 3
   },
   "file_extension": ".py",
   "mimetype": "text/x-python",
   "name": "python",
   "nbconvert_exporter": "python",
   "pygments_lexer": "ipython3",
   "version": "3.12.7"
  }
 },
 "nbformat": 4,
 "nbformat_minor": 5
}
